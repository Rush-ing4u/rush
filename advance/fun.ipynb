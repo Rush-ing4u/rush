{
 "cells": [
  {
   "cell_type": "code",
   "execution_count": 2,
   "metadata": {},
   "outputs": [
    {
     "name": "stdout",
     "output_type": "stream",
     "text": [
      "Hi, i m outside any function\n"
     ]
    }
   ],
   "source": [
    "def hello():\n",
    "   print('this is a function')\n",
    "   print('this not a good function')\n",
    "   print('bye!!')\n",
    "\n",
    "print('Hi, i m outside any function')"
   ]
  },
  {
   "cell_type": "code",
   "execution_count": 4,
   "metadata": {},
   "outputs": [
    {
     "name": "stdout",
     "output_type": "stream",
     "text": [
      "this is a function\n",
      "this not a good function\n",
      "bye!!\n"
     ]
    }
   ],
   "source": [
    "hello() # function calling"
   ]
  },
  {
   "cell_type": "code",
   "execution_count": 6,
   "metadata": {},
   "outputs": [
    {
     "name": "stdout",
     "output_type": "stream",
     "text": [
      "this is a function\n",
      "this not a good function\n",
      "bye!!\n",
      "this is a function\n",
      "this not a good function\n",
      "bye!!\n",
      "this is a function\n",
      "this not a good function\n",
      "bye!!\n"
     ]
    }
   ],
   "source": [
    "for i in range (3): # can be use numerous times\n",
    "    hello()"
   ]
  },
  {
   "cell_type": "code",
   "execution_count": 8,
   "metadata": {},
   "outputs": [],
   "source": [
    "def area(length , breath):\n",
    "    pass    #blueprint/prototype/structure/outline \n"
   ]
  },
  {
   "cell_type": "code",
   "execution_count": 11,
   "metadata": {},
   "outputs": [],
   "source": [
    "def area(length , breath):\n",
    "    ans = length * breath\n",
    "    return ans"
   ]
  },
  {
   "cell_type": "code",
   "execution_count": 12,
   "metadata": {},
   "outputs": [
    {
     "data": {
      "text/plain": [
       "25"
      ]
     },
     "execution_count": 12,
     "metadata": {},
     "output_type": "execute_result"
    }
   ],
   "source": [
    "area(5,5)"
   ]
  },
  {
   "cell_type": "code",
   "execution_count": 13,
   "metadata": {},
   "outputs": [
    {
     "name": "stdout",
     "output_type": "stream",
     "text": [
      "the area: 12\n"
     ]
    }
   ],
   "source": [
    "print('the area:',area(4,3))"
   ]
  },
  {
   "cell_type": "code",
   "execution_count": 14,
   "metadata": {},
   "outputs": [
    {
     "name": "stdout",
     "output_type": "stream",
     "text": [
      "16 20\n"
     ]
    }
   ],
   "source": [
    "a = area(4,4)\n",
    "b = area(4,5)\n",
    "print(a,b)"
   ]
  },
  {
   "cell_type": "code",
   "execution_count": 15,
   "metadata": {},
   "outputs": [
    {
     "name": "stdout",
     "output_type": "stream",
     "text": [
      "160\n"
     ]
    }
   ],
   "source": [
    "big_area = area(5,5)+ area(10,12) +15 #function expression\n",
    "print(big_area)"
   ]
  },
  {
   "cell_type": "code",
   "execution_count": 16,
   "metadata": {},
   "outputs": [],
   "source": [
    "# 0, 1, 1, 2, 3, 5, 8 fibonacci series\n",
    "def fib(start: int , size: int):\n",
    "    '''\n",
    "    ### this fibonacci series\n",
    "\n",
    "    - start : pass a number for the start of fibonacci series\n",
    "    - size : size of fibonacci series\n",
    "    - returns : list of fibonacci series\n",
    " \n",
    "    ```\n",
    "    out = fib(0)\n",
    "    print(out) \n",
    "     ''' # documentation\n",
    "    out = [start, start+1] # list with 2 initial values\n",
    "    for i in range(size- 2):\n",
    "        out.append(out[-1] + out[-2])\n",
    "    return out"
   ]
  },
  {
   "cell_type": "code",
   "execution_count": 17,
   "metadata": {},
   "outputs": [
    {
     "name": "stdout",
     "output_type": "stream",
     "text": [
      "[0, 1, 1, 2, 3, 5, 8, 13, 21, 34, 55, 89, 144, 233, 377, 610, 987, 1597, 2584, 4181, 6765, 10946, 17711, 28657, 46368]\n"
     ]
    }
   ],
   "source": [
    "print(fib(0, 25))"
   ]
  },
  {
   "cell_type": "code",
   "execution_count": 19,
   "metadata": {},
   "outputs": [
    {
     "data": {
      "text/plain": [
       "[3, 4, 7]"
      ]
     },
     "execution_count": 19,
     "metadata": {},
     "output_type": "execute_result"
    }
   ],
   "source": [
    "fib(3,3)"
   ]
  },
  {
   "cell_type": "code",
   "execution_count": 32,
   "metadata": {},
   "outputs": [],
   "source": [
    "# create a function to calculate S.I. and amount and return them\n",
    "def simple_interest(p,t,r):\n",
    "    print('The principal is', p)\n",
    "    print('The time period is', t)\n",
    "    print('The rate of interest is',r)\n",
    "     \n",
    "    si = (p * t * r)/100\n",
    "     \n",
    "    print('The Simple Interest is', si)\n",
    "    a = (p+si)\n",
    "    print('The Amount is ', a)\n",
    "    return si ,a\n",
    "     "
   ]
  },
  {
   "cell_type": "code",
   "execution_count": 34,
   "metadata": {},
   "outputs": [
    {
     "name": "stdout",
     "output_type": "stream",
     "text": [
      "The principal is 2444\n",
      "The time period is 2\n",
      "The rate of interest is 15\n",
      "The Simple Interest is 733.2\n",
      "The Amount is  3177.2\n"
     ]
    },
    {
     "data": {
      "text/plain": [
       "(733.2, 3177.2)"
      ]
     },
     "execution_count": 34,
     "metadata": {},
     "output_type": "execute_result"
    }
   ],
   "source": [
    "simple_interest(2444,2,15)"
   ]
  },
  {
   "cell_type": "code",
   "execution_count": 40,
   "metadata": {},
   "outputs": [],
   "source": [
    "import utils"
   ]
  },
  {
   "cell_type": "code",
   "execution_count": 44,
   "metadata": {},
   "outputs": [],
   "source": [
    "s = '  gttrfjhyteyt ugjvmbjhfhgvshuoigsvc jghncvbserx simple_interest(2444,2,15)'"
   ]
  },
  {
   "cell_type": "code",
   "execution_count": 45,
   "metadata": {},
   "outputs": [
    {
     "data": {
      "text/plain": [
       "{'jghncvbserx': 1,\n",
       " 'gttrfjhyteyt': 1,\n",
       " 'ugjvmbjhfhgvshuoigsvc': 1,\n",
       " 'simple_interest(2444,2,15)': 1}"
      ]
     },
     "execution_count": 45,
     "metadata": {},
     "output_type": "execute_result"
    }
   ],
   "source": [
    "utils.word_counter(s)"
   ]
  },
  {
   "cell_type": "code",
   "execution_count": 46,
   "metadata": {},
   "outputs": [
    {
     "name": "stdout",
     "output_type": "stream",
     "text": [
      "_ 1\n",
      "l 1\n",
      "b 2\n",
      "2 2\n",
      "v 4\n",
      "g 5\n",
      "y 2\n",
      "j 4\n",
      ") 1\n",
      "  5\n",
      "5 1\n",
      "1 1\n",
      "p 1\n",
      "t 6\n",
      "i 3\n",
      "( 1\n",
      "f 2\n",
      "r 3\n",
      "4 3\n",
      ", 2\n",
      "c 2\n",
      "o 1\n",
      "h 5\n",
      "e 5\n",
      "u 2\n",
      "s 5\n",
      "n 2\n",
      "x 1\n",
      "m 2\n"
     ]
    },
    {
     "data": {
      "text/plain": [
       "{'_': 1,\n",
       " 'l': 1,\n",
       " 'b': 2,\n",
       " '2': 2,\n",
       " 'v': 4,\n",
       " 'g': 5,\n",
       " 'y': 2,\n",
       " 'j': 4,\n",
       " ')': 1,\n",
       " ' ': 5,\n",
       " '5': 1,\n",
       " '1': 1,\n",
       " 'p': 1,\n",
       " 't': 6,\n",
       " 'i': 3,\n",
       " '(': 1,\n",
       " 'f': 2,\n",
       " 'r': 3,\n",
       " '4': 3,\n",
       " ',': 2,\n",
       " 'c': 2,\n",
       " 'o': 1,\n",
       " 'h': 5,\n",
       " 'e': 5,\n",
       " 'u': 2,\n",
       " 's': 5,\n",
       " 'n': 2,\n",
       " 'x': 1,\n",
       " 'm': 2}"
      ]
     },
     "execution_count": 46,
     "metadata": {},
     "output_type": "execute_result"
    }
   ],
   "source": [
    "utils.char_counter(s)"
   ]
  },
  {
   "cell_type": "code",
   "execution_count": null,
   "metadata": {},
   "outputs": [],
   "source": []
  }
 ],
 "metadata": {
  "kernelspec": {
   "display_name": "Python 3.9.12 ('base')",
   "language": "python",
   "name": "python3"
  },
  "language_info": {
   "codemirror_mode": {
    "name": "ipython",
    "version": 3
   },
   "file_extension": ".py",
   "mimetype": "text/x-python",
   "name": "python",
   "nbconvert_exporter": "python",
   "pygments_lexer": "ipython3",
   "version": "3.9.12"
  },
  "orig_nbformat": 4,
  "vscode": {
   "interpreter": {
    "hash": "ad09bb94b98bbd5808ef9f9ec51e05a317322e67166a9b2689cc493a4d51385b"
   }
  }
 },
 "nbformat": 4,
 "nbformat_minor": 2
}
