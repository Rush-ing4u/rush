{
 "cells": [
  {
   "cell_type": "code",
   "execution_count": 1,
   "metadata": {},
   "outputs": [
    {
     "name": "stdout",
     "output_type": "stream",
     "text": [
      "This number is even.\n",
      "The End\n"
     ]
    }
   ],
   "source": [
    "# IF CONDITION\n",
    "x= 1356\n",
    "if x%2==0 :\n",
    "     print(\"This number is even.\") \n",
    "print(\"The End\")     "
   ]
  },
  {
   "cell_type": "code",
   "execution_count": 3,
   "metadata": {},
   "outputs": [
    {
     "name": "stdout",
     "output_type": "stream",
     "text": [
      " WRONG INPUT\n"
     ]
    }
   ],
   "source": [
    "# IF - ELSE CONDITION\n",
    "num=input(\"Enter a num\")\n",
    "if num.isnumeric():\n",
    "    print(\"WELLDONE\")\n",
    "    num=int(num)\n",
    "else:\n",
    "    print(\" WRONG INPUT\")    "
   ]
  },
  {
   "cell_type": "markdown",
   "metadata": {},
   "source": [
    "a=\"a1\"\n",
    "a.isnumeric() # is a function \n"
   ]
  },
  {
   "cell_type": "code",
   "execution_count": 7,
   "metadata": {},
   "outputs": [
    {
     "name": "stdout",
     "output_type": "stream",
     "text": [
      "Did you missed me? \n"
     ]
    }
   ],
   "source": [
    "#NESTED IF CONDITION \n",
    "username=\"James Moriarty\"\n",
    "email=\"moriarty@gmail.com\"\n",
    "password=\"221b\"\n",
    "if username==\"James Moriarty\":\n",
    "    if email==\"moriarty@gmail.com\":\n",
    "        if password==\"221b\":\n",
    "           print(\"Did you missed me? \") \n",
    "        else:\n",
    "            print(\"Incorrect password\")\n",
    "    else:\n",
    "        print(\"Incorrect email\")\n",
    "else:\n",
    "    print(\"Incorect username \")       "
   ]
  },
  {
   "cell_type": "code",
   "execution_count": 9,
   "metadata": {},
   "outputs": [
    {
     "name": "stdout",
     "output_type": "stream",
     "text": [
      "Did you missed me? \n"
     ]
    }
   ],
   "source": [
    "# IF ELIF ELSE CONDITION \n",
    "username=\"James Moriarty\"\n",
    "email=\"moriarty@gmail.com\"\n",
    "password=\"221B\"\n",
    "if username!=\"James Moriarty\":\n",
    "   print(\"Incorect username \")       \n",
    "elif email!=\"moriarty@gmail.com\":   \n",
    "   print(\"Incorrect email\")\n",
    "elif password!=\"221B\":\n",
    "    print(\"Incorrect password\")\n",
    "else: \n",
    "     print(\"Did you missed me? \") \n"
   ]
  },
  {
   "cell_type": "markdown",
   "metadata": {},
   "source": [
    "WAP TO CALCULATE THE GRADE OF STUDENTS BASED ON MARKS WITH FOLLOWING RULES :\n",
    " if marks >=90 grade is A\n",
    " if marks >=80 grade is B\n",
    " if marks >=70 grade is C\n",
    " if marks >=60 grade is D\n",
    " if marks <60 grade is F\n",
    " if marks isn't number then it will be \"INVALID\"."
   ]
  },
  {
   "cell_type": "code",
   "execution_count": 13,
   "metadata": {},
   "outputs": [
    {
     "name": "stdout",
     "output_type": "stream",
     "text": [
      "GRADE C\n"
     ]
    }
   ],
   "source": [
    "marks=input(\"Enter marks:\")\n",
    "if marks.isnumeric():\n",
    "    marks=int(marks)\n",
    "    if marks >= 90:\n",
    "        print(\"GRADE A\")\n",
    "    elif marks >=80:\n",
    "        print(\"GRADE B\")\n",
    "    elif marks >= 70:\n",
    "        print(\"GRADE C\")\n",
    "    elif marks >= 60:\n",
    "        print(\"GRADE D\")\n",
    "    elif marks < 60:\n",
    "        print(\"GRADE F\")\n",
    "else:\n",
    "    print(\"INVALID\")"
   ]
  }
 ],
 "metadata": {
  "kernelspec": {
   "display_name": "Python 3.9.12 ('base')",
   "language": "python",
   "name": "python3"
  },
  "language_info": {
   "codemirror_mode": {
    "name": "ipython",
    "version": 3
   },
   "file_extension": ".py",
   "mimetype": "text/x-python",
   "name": "python",
   "nbconvert_exporter": "python",
   "pygments_lexer": "ipython3",
   "version": "3.9.12"
  },
  "orig_nbformat": 4,
  "vscode": {
   "interpreter": {
    "hash": "ad09bb94b98bbd5808ef9f9ec51e05a317322e67166a9b2689cc493a4d51385b"
   }
  }
 },
 "nbformat": 4,
 "nbformat_minor": 2
}
