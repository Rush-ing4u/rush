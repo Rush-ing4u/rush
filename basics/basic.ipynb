{
 "cells": [
  {
   "cell_type": "code",
   "execution_count": 3,
   "metadata": {},
   "outputs": [
    {
     "name": "stdout",
     "output_type": "stream",
     "text": [
      "13\n",
      "7\n",
      "30\n",
      "3.3333333333333335\n",
      "3\n",
      "1\n",
      "1000\n"
     ]
    }
   ],
   "source": [
    "# Arithmetic Operator\n",
    "a=10\n",
    "b=3\n",
    "print(a+b) # Addition\n",
    "print(a-b) # Substration\n",
    "print(a*b) # Multiplication\n",
    "print(a/b) # Float Division\n",
    "print(a//b) # Int Division\n",
    "print(a%b) # Modulo Division \n",
    "print(a**b) # Exponential\n"
   ]
  },
  {
   "cell_type": "code",
   "execution_count": null,
   "metadata": {},
   "outputs": [],
   "source": []
  },
  {
   "cell_type": "code",
   "execution_count": 4,
   "metadata": {},
   "outputs": [],
   "source": [
    "# Assignment Operator \n",
    "a=10\n",
    "a+=2\n"
   ]
  },
  {
   "cell_type": "code",
   "execution_count": 5,
   "metadata": {},
   "outputs": [
    {
     "name": "stdout",
     "output_type": "stream",
     "text": [
      "True\n",
      "True\n",
      "False\n",
      "False\n",
      "False\n",
      "True\n"
     ]
    }
   ],
   "source": [
    "# Comparision Operator\n",
    "print(a>b) # greater than \n",
    "print(a>=b) # greater than or equals to\n",
    "print(a<b) # less than\n",
    "print(a<=b) # less than or equals to\n",
    "print(a==b) # equals to \n",
    "print(a!=b) # not equal to\n"
   ]
  },
  {
   "cell_type": "code",
   "execution_count": 6,
   "metadata": {},
   "outputs": [
    {
     "name": "stdout",
     "output_type": "stream",
     "text": [
      "True\n",
      "False\n",
      "True\n",
      "True\n",
      "False\n",
      "True\n",
      "False\n"
     ]
    }
   ],
   "source": [
    "# Logical Opertor ( and , or , not )\n",
    "a=10\n",
    "b=3\n",
    "print(a>b and a>5)\n",
    "print(a<b and a>5)\n",
    "print(a>b or a>5)\n",
    "print(a<b or a>5)\n",
    "print(a<b or a<5)\n",
    "print(not a<b)\n",
    "print(not a>b)"
   ]
  },
  {
   "cell_type": "code",
   "execution_count": 7,
   "metadata": {},
   "outputs": [
    {
     "name": "stdout",
     "output_type": "stream",
     "text": [
      "True\n",
      "True\n",
      "False\n"
     ]
    }
   ],
   "source": [
    "# Membership Operator (case sensitive)\n",
    "Colors=['red','yellow','pink','purple','blue']\n",
    "print ('red' in Colors )\n",
    "msg=\"Its the journey that matters\"\n",
    "print ('journey' in msg )\n",
    "print ('destination' in msg )"
   ]
  },
  {
   "cell_type": "code",
   "execution_count": 8,
   "metadata": {},
   "outputs": [],
   "source": [
    "# is operator checks whether two objects belongs to same memory location or not "
   ]
  },
  {
   "cell_type": "code",
   "execution_count": 9,
   "metadata": {},
   "outputs": [
    {
     "name": "stdout",
     "output_type": "stream",
     "text": [
      "Area of circle is 50.24\n"
     ]
    }
   ],
   "source": [
    "# WAP to calculate area of a circle\n",
    "r=float(4)\n",
    "pi=float(3.14)\n",
    "print('Area of circle is' , pi*r**2)"
   ]
  },
  {
   "cell_type": "code",
   "execution_count": 10,
   "metadata": {},
   "outputs": [
    {
     "name": "stdout",
     "output_type": "stream",
     "text": [
      "Area of rectangle is 25.0\n"
     ]
    }
   ],
   "source": [
    "# WAP to calculate area of a rectangle\n",
    "i=float(input('Enter lenght=>'))\n",
    "b=float(input('Enter bredth=>'))\n",
    "area=i*b\n",
    "print('Area of rectangle is',area)"
   ]
  },
  {
   "cell_type": "code",
   "execution_count": 11,
   "metadata": {},
   "outputs": [
    {
     "name": "stdout",
     "output_type": "stream",
     "text": [
      "Area of a triangle is 12.5\n"
     ]
    }
   ],
   "source": [
    "# WAP to calculate area of a triangle\n",
    "h=float(input('Enter height=>'))\n",
    "b=float(input('Enter bredth=>'))\n",
    "area=0.5*b*h\n",
    "print('Area of a triangle is',area)"
   ]
  },
  {
   "cell_type": "code",
   "execution_count": 12,
   "metadata": {},
   "outputs": [],
   "source": [
    "import math"
   ]
  },
  {
   "cell_type": "code",
   "execution_count": 13,
   "metadata": {},
   "outputs": [
    {
     "name": "stdout",
     "output_type": "stream",
     "text": [
      "hypotenus is 6.4031242374328485\n"
     ]
    }
   ],
   "source": [
    "# WAP to calculate area of a hypotenus using perpendicular and base\n",
    "p=float (input ('Enter a number'))\n",
    "b= float (input('Enter base'))\n",
    "h= math.hypot(p,b)\n",
    "print ('hypotenus is',h)"
   ]
  },
  {
   "cell_type": "code",
   "execution_count": 17,
   "metadata": {},
   "outputs": [
    {
     "name": "stdout",
     "output_type": "stream",
     "text": [
      "factorial of 7 is 5040\n"
     ]
    }
   ],
   "source": [
    "# WAP to calculate factorial \n",
    "import math\n",
    "\n",
    "num=int(input('enter a number'))\n",
    "fact=math.factorial(num)\n",
    "print('factorial of',num,'is',fact)"
   ]
  },
  {
   "cell_type": "code",
   "execution_count": 15,
   "metadata": {},
   "outputs": [
    {
     "name": "stdout",
     "output_type": "stream",
     "text": [
      "['__doc__', '__loader__', '__name__', '__package__', '__spec__', 'acos', 'acosh', 'asin', 'asinh', 'atan', 'atan2', 'atanh', 'ceil', 'comb', 'copysign', 'cos', 'cosh', 'degrees', 'dist', 'e', 'erf', 'erfc', 'exp', 'expm1', 'fabs', 'factorial', 'floor', 'fmod', 'frexp', 'fsum', 'gamma', 'gcd', 'hypot', 'inf', 'isclose', 'isfinite', 'isinf', 'isnan', 'isqrt', 'lcm', 'ldexp', 'lgamma', 'log', 'log10', 'log1p', 'log2', 'modf', 'nan', 'nextafter', 'perm', 'pi', 'pow', 'prod', 'radians', 'remainder', 'sin', 'sinh', 'sqrt', 'tan', 'tanh', 'tau', 'trunc', 'ulp']\n"
     ]
    }
   ],
   "source": [
    "print(dir(math))"
   ]
  },
  {
   "cell_type": "code",
   "execution_count": 16,
   "metadata": {},
   "outputs": [
    {
     "name": "stdout",
     "output_type": "stream",
     "text": [
      "compound interest is 262144.0\n"
     ]
    }
   ],
   "source": [
    "# wap\n",
    "p=float(input('Enter principle =>'))\n",
    "r=float(input('Enter rate =>'))\n",
    "t=float(input('Enter time =>'))\n",
    "n=float(input('Enter number of time interest is compound =>'))\n",
    "ci=p*(1+r/n)**(n*t)\n",
    "print('compound interest is',ci)"
   ]
  }
 ],
 "metadata": {
  "kernelspec": {
   "display_name": "Python 3.9.12 ('base')",
   "language": "python",
   "name": "python3"
  },
  "language_info": {
   "codemirror_mode": {
    "name": "ipython",
    "version": 3
   },
   "file_extension": ".py",
   "mimetype": "text/x-python",
   "name": "python",
   "nbconvert_exporter": "python",
   "pygments_lexer": "ipython3",
   "version": "3.9.12"
  },
  "orig_nbformat": 4,
  "vscode": {
   "interpreter": {
    "hash": "ad09bb94b98bbd5808ef9f9ec51e05a317322e67166a9b2689cc493a4d51385b"
   }
  }
 },
 "nbformat": 4,
 "nbformat_minor": 2
}
