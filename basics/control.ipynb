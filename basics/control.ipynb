{
 "cells": [
  {
   "cell_type": "code",
   "execution_count": 1,
   "metadata": {},
   "outputs": [
    {
     "name": "stdout",
     "output_type": "stream",
     "text": [
      "This number is even.\n",
      "The End\n"
     ]
    }
   ],
   "source": [
    "# IF CONDITION\n",
    "x= 1356\n",
    "if x%2==0 :\n",
    "     print(\"This number is even.\") \n",
    "print(\"The End\")     "
   ]
  },
  {
   "cell_type": "code",
   "execution_count": 3,
   "metadata": {},
   "outputs": [
    {
     "name": "stdout",
     "output_type": "stream",
     "text": [
      " WRONG INPUT\n"
     ]
    }
   ],
   "source": [
    "# IF - ELSE CONDITION\n",
    "num=input(\"Enter a num\")\n",
    "if num.isnumeric():\n",
    "    print(\"WELLDONE\")\n",
    "    num=int(num)\n",
    "else:\n",
    "    print(\" WRONG INPUT\")    "
   ]
  },
  {
   "cell_type": "markdown",
   "metadata": {},
   "source": [
    "a=\"a1\"\n",
    "a.isnumeric() # is a function \n"
   ]
  },
  {
   "cell_type": "code",
   "execution_count": 7,
   "metadata": {},
   "outputs": [
    {
     "name": "stdout",
     "output_type": "stream",
     "text": [
      "Did you missed me? \n"
     ]
    }
   ],
   "source": [
    "#NESTED IF CONDITION \n",
    "username=\"James Moriarty\"\n",
    "email=\"moriarty@gmail.com\"\n",
    "password=\"221b\"\n",
    "if username==\"James Moriarty\":\n",
    "    if email==\"moriarty@gmail.com\":\n",
    "        if password==\"221b\":\n",
    "           print(\"Did you missed me? \") \n",
    "        else:\n",
    "            print(\"Incorrect password\")\n",
    "    else:\n",
    "        print(\"Incorrect email\")\n",
    "else:\n",
    "    print(\"Incorect username \")       "
   ]
  },
  {
   "cell_type": "code",
   "execution_count": 9,
   "metadata": {},
   "outputs": [
    {
     "name": "stdout",
     "output_type": "stream",
     "text": [
      "Did you missed me? \n"
     ]
    }
   ],
   "source": [
    "# IF ELIF ELSE CONDITION \n",
    "username=\"James Moriarty\"\n",
    "email=\"moriarty@gmail.com\"\n",
    "password=\"221B\"\n",
    "if username!=\"James Moriarty\":\n",
    "   print(\"Incorect username \")       \n",
    "elif email!=\"moriarty@gmail.com\":   \n",
    "   print(\"Incorrect email\")\n",
    "elif password!=\"221B\":\n",
    "    print(\"Incorrect password\")\n",
    "else: \n",
    "     print(\"Did you missed me? \") \n"
   ]
  },
  {
   "cell_type": "markdown",
   "metadata": {},
   "source": [
    "WAP TO CALCULATE THE GRADE OF STUDENTS BASED ON MARKS WITH FOLLOWING RULES :\n",
    " if marks >=90 grade is A\n",
    " if marks >=80 grade is B\n",
    " if marks >=70 grade is C\n",
    " if marks >=60 grade is D\n",
    " if marks <60 grade is F\n",
    " if marks isn't number then it will be \"INVALID\"."
   ]
  },
  {
   "cell_type": "code",
   "execution_count": 13,
   "metadata": {},
   "outputs": [
    {
     "name": "stdout",
     "output_type": "stream",
     "text": [
      "GRADE C\n"
     ]
    }
   ],
   "source": [
    "marks=input(\"Enter marks:\")\n",
    "if marks.isnumeric():\n",
    "    marks=int(marks)\n",
    "    if marks >= 90:\n",
    "        print(\"GRADE A\")\n",
    "    elif marks >=80:\n",
    "        print(\"GRADE B\")\n",
    "    elif marks >= 70:\n",
    "        print(\"GRADE C\")\n",
    "    elif marks >= 60:\n",
    "        print(\"GRADE D\")\n",
    "    elif marks < 60:\n",
    "        print(\"GRADE F\")\n",
    "else:\n",
    "    print(\"INVALID\")"
   ]
  },
  {
   "cell_type": "code",
   "execution_count": 1,
   "metadata": {},
   "outputs": [
    {
     "name": "stdout",
     "output_type": "stream",
     "text": [
      "P\n",
      "Y\n",
      "T\n",
      "H\n",
      "O\n",
      "N\n"
     ]
    }
   ],
   "source": [
    "x=\"PYTHON\"\n",
    "for i in x: \n",
    "    print(i)"
   ]
  },
  {
   "cell_type": "code",
   "execution_count": 2,
   "metadata": {},
   "outputs": [
    {
     "name": "stdout",
     "output_type": "stream",
     "text": [
      "i have apple\n",
      "i have banana\n",
      "i have cherry\n"
     ]
    }
   ],
   "source": [
    "fruits=[\"apple\",\"banana\",\"cherry\"]\n",
    "for item in fruits:\n",
    "    print(f'i have {item}')"
   ]
  },
  {
   "cell_type": "markdown",
   "metadata": {},
   "source": [
    "string settings \n",
    " r= raw strings (for addresses of file and can put in double quotes)\n",
    " f= formatted string (allows to put variables in string )\n",
    " b= byte string "
   ]
  },
  {
   "cell_type": "markdown",
   "metadata": {},
   "source": [
    "EXAMPLES OF FUNCTION range()"
   ]
  },
  {
   "cell_type": "code",
   "execution_count": 4,
   "metadata": {},
   "outputs": [
    {
     "name": "stdout",
     "output_type": "stream",
     "text": [
      "you got point 0\n",
      "you got point 1\n",
      "you got point 2\n",
      "you got point 3\n",
      "you got point 4\n",
      "you got point 5\n"
     ]
    }
   ],
   "source": [
    "for i in range(6):\n",
    " print(\"you got point\",i)"
   ]
  },
  {
   "cell_type": "code",
   "execution_count": 5,
   "metadata": {},
   "outputs": [
    {
     "name": "stdout",
     "output_type": "stream",
     "text": [
      "sheep 2\n",
      "sheep 3\n",
      "sheep 4\n",
      "sheep 5\n",
      "sheep 6\n",
      "sheep 7\n",
      "sheep 8\n",
      "sheep 9\n",
      "sheep 10\n"
     ]
    }
   ],
   "source": [
    "for num in range(2,11):\n",
    "    print('sheep',num)"
   ]
  },
  {
   "cell_type": "code",
   "execution_count": 6,
   "metadata": {},
   "outputs": [
    {
     "name": "stdout",
     "output_type": "stream",
     "text": [
      "level 1\n",
      "level 4\n",
      "level 7\n"
     ]
    }
   ],
   "source": [
    "for num in range(1,10,3):\n",
    "    print('level',num)"
   ]
  },
  {
   "cell_type": "code",
   "execution_count": 7,
   "metadata": {},
   "outputs": [
    {
     "name": "stdout",
     "output_type": "stream",
     "text": [
      "10\n",
      "9\n",
      "8\n",
      "7\n",
      "6\n"
     ]
    }
   ],
   "source": [
    "#reverse loop \n",
    "for num in range(10,5,-1):\n",
    "    print(num)"
   ]
  },
  {
   "cell_type": "code",
   "execution_count": 11,
   "metadata": {},
   "outputs": [
    {
     "name": "stdout",
     "output_type": "stream",
     "text": [
      "\n",
      "Na\n",
      "NaNa\n",
      "NaNaNa\n",
      "NaNaNaNa\n",
      "NaNaNaNaNa\n",
      "NaNaNaNaNaNa\n",
      "NaNaNaNaNaNaNa\n",
      "NaNaNaNaNaNaNaNa\n",
      "NaNaNaNaNaNaNaNaNa\n"
     ]
    }
   ],
   "source": [
    "#pattern loop \n",
    "for i in range(10):\n",
    "    print(i*\"Na\")"
   ]
  },
  {
   "cell_type": "markdown",
   "metadata": {},
   "source": [
    "EXTRA FUNCTION SETTINGS FOR for loop\n",
    "*enumerate\n",
    "*zip"
   ]
  },
  {
   "cell_type": "code",
   "execution_count": 3,
   "metadata": {},
   "outputs": [
    {
     "name": "stdout",
     "output_type": "stream",
     "text": [
      "apple\n",
      "banana\n",
      "cherry\n",
      "strawberry\n",
      "kiwi\n",
      "rasberry\n"
     ]
    }
   ],
   "source": [
    "fruits=['apple','banana','cherry','strawberry','kiwi','rasberry']\n",
    "for fruit in fruits:\n",
    "    print(fruit)"
   ]
  },
  {
   "cell_type": "code",
   "execution_count": 15,
   "metadata": {},
   "outputs": [
    {
     "name": "stdout",
     "output_type": "stream",
     "text": [
      "(0, 'apple')\n",
      "(1, 'banana')\n",
      "(2, 'cherry')\n",
      "(3, 'strawberry')\n",
      "(4, 'kiwi')\n",
      "(5, 'rasberry')\n"
     ]
    }
   ],
   "source": [
    "for fruit in enumerate(fruits):\n",
    "    print(fruit)"
   ]
  },
  {
   "cell_type": "code",
   "execution_count": 17,
   "metadata": {},
   "outputs": [
    {
     "name": "stdout",
     "output_type": "stream",
     "text": [
      "0 apple\n",
      "1 banana\n",
      "2 cherry\n",
      "3 strawberry\n",
      "4 kiwi\n",
      "5 rasberry\n"
     ]
    }
   ],
   "source": [
    "for i, fruit in enumerate(fruits):\n",
    "    print(i,fruit)"
   ]
  },
  {
   "cell_type": "code",
   "execution_count": 2,
   "metadata": {},
   "outputs": [],
   "source": [
    "prices=[100,200,300,400,500,600]"
   ]
  },
  {
   "cell_type": "code",
   "execution_count": 4,
   "metadata": {},
   "outputs": [
    {
     "name": "stdout",
     "output_type": "stream",
     "text": [
      "apple => 100\n",
      "banana => 200\n",
      "cherry => 300\n",
      "strawberry => 400\n",
      "kiwi => 500\n",
      "rasberry => 600\n"
     ]
    }
   ],
   "source": [
    "for f,p in zip(fruits,prices):\n",
    "    print(f,\"=>\",p)"
   ]
  },
  {
   "cell_type": "code",
   "execution_count": 8,
   "metadata": {},
   "outputs": [],
   "source": [
    "qty=['2kg','2dozen','1kg','1/2kg','6kg']"
   ]
  },
  {
   "cell_type": "code",
   "execution_count": 9,
   "metadata": {},
   "outputs": [
    {
     "name": "stdout",
     "output_type": "stream",
     "text": [
      "apple => 100 for 2kg\n",
      "banana => 200 for 2dozen\n",
      "cherry => 300 for 1kg\n",
      "strawberry => 400 for 1/2kg\n",
      "kiwi => 500 for 6kg\n"
     ]
    }
   ],
   "source": [
    "for f,q,p in zip(fruits,prices,qty):\n",
    "    print(f,'=>',q,'for',p)"
   ]
  }
 ],
 "metadata": {
  "kernelspec": {
   "display_name": "Python 3.9.12 ('base')",
   "language": "python",
   "name": "python3"
  },
  "language_info": {
   "codemirror_mode": {
    "name": "ipython",
    "version": 3
   },
   "file_extension": ".py",
   "mimetype": "text/x-python",
   "name": "python",
   "nbconvert_exporter": "python",
   "pygments_lexer": "ipython3",
   "version": "3.9.12"
  },
  "orig_nbformat": 4,
  "vscode": {
   "interpreter": {
    "hash": "ad09bb94b98bbd5808ef9f9ec51e05a317322e67166a9b2689cc493a4d51385b"
   }
  }
 },
 "nbformat": 4,
 "nbformat_minor": 2
}
