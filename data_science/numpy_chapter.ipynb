{
 "cells": [
  {
   "cell_type": "code",
   "execution_count": 1,
   "metadata": {},
   "outputs": [],
   "source": [
    "import numpy as np "
   ]
  },
  {
   "cell_type": "code",
   "execution_count": 2,
   "metadata": {},
   "outputs": [
    {
     "name": "stdout",
     "output_type": "stream",
     "text": [
      "[1 2 3]\n",
      "<class 'numpy.ndarray'>\n"
     ]
    }
   ],
   "source": [
    "#creation of numpy array\n",
    "x = np.array([1,2,3])\n",
    "print(x)\n",
    "print(type(x))  #ndarray"
   ]
  },
  {
   "cell_type": "code",
   "execution_count": 3,
   "metadata": {},
   "outputs": [
    {
     "name": "stdout",
     "output_type": "stream",
     "text": [
      "3\n",
      "(3,)\n",
      "1\n"
     ]
    }
   ],
   "source": [
    "print(x.size) # total no. of elements\n",
    "print(x.shape) #dimensions wise elements \n",
    "print(x.ndim) # number of dimensions "
   ]
  },
  {
   "cell_type": "code",
   "execution_count": 4,
   "metadata": {},
   "outputs": [
    {
     "name": "stdout",
     "output_type": "stream",
     "text": [
      "[[1 2 3]\n",
      " [4 5 6]]\n",
      "6\n",
      "(2, 3)\n",
      "2\n"
     ]
    }
   ],
   "source": [
    "x2d = np.array([[1,2,3],[4,5,6]])\n",
    "print(x2d)\n",
    "print(x2d.size) \n",
    "print(x2d.shape) \n",
    "print(x2d.ndim)"
   ]
  },
  {
   "cell_type": "code",
   "execution_count": 5,
   "metadata": {},
   "outputs": [
    {
     "name": "stdout",
     "output_type": "stream",
     "text": [
      "[[74  7 11 64 83]\n",
      " [30 29 58 97 65]\n",
      " [27 19 87 77  5]\n",
      " [69 82  5 55 60]\n",
      " [93 64 44 16 32]]\n"
     ]
    }
   ],
   "source": [
    "x25 = np.random.randint(1,100,(5,5))\n",
    "print(x25)"
   ]
  },
  {
   "cell_type": "code",
   "execution_count": 6,
   "metadata": {},
   "outputs": [
    {
     "name": "stdout",
     "output_type": "stream",
     "text": [
      "[ 1  5  9 13 17 21 25 29 33 37 41 45 49 53 57 61 65 69 73 77 81 85 89 93\n",
      " 97]\n",
      "25 elements\n",
      "[[ 1  5  9 13 17]\n",
      " [21 25 29 33 37]\n",
      " [41 45 49 53 57]\n",
      " [61 65 69 73 77]\n",
      " [81 85 89 93 97]]\n"
     ]
    }
   ],
   "source": [
    "xseql = np.arange(1,101,4) #enhanced version of range()\n",
    "print(xseql) # 1d matrix\n",
    "print(xseql.size,\"elements\")\n",
    "\n",
    "print(xseql.reshape(5,5)) #1d matrix into 2d"
   ]
  },
  {
   "cell_type": "code",
   "execution_count": 7,
   "metadata": {},
   "outputs": [
    {
     "name": "stdout",
     "output_type": "stream",
     "text": [
      "50 elements\n",
      "=>1D MATRIX\n",
      "[  1.           3.02040816   5.04081633   7.06122449   9.08163265\n",
      "  11.10204082  13.12244898  15.14285714  17.16326531  19.18367347\n",
      "  21.20408163  23.2244898   25.24489796  27.26530612  29.28571429\n",
      "  31.30612245  33.32653061  35.34693878  37.36734694  39.3877551\n",
      "  41.40816327  43.42857143  45.44897959  47.46938776  49.48979592\n",
      "  51.51020408  53.53061224  55.55102041  57.57142857  59.59183673\n",
      "  61.6122449   63.63265306  65.65306122  67.67346939  69.69387755\n",
      "  71.71428571  73.73469388  75.75510204  77.7755102   79.79591837\n",
      "  81.81632653  83.83673469  85.85714286  87.87755102  89.89795918\n",
      "  91.91836735  93.93877551  95.95918367  97.97959184 100.        ]\n",
      "=>1D MATRIX RESHAPED TO 2D\n",
      "[[  1.           3.02040816   5.04081633   7.06122449   9.08163265]\n",
      " [ 11.10204082  13.12244898  15.14285714  17.16326531  19.18367347]\n",
      " [ 21.20408163  23.2244898   25.24489796  27.26530612  29.28571429]\n",
      " [ 31.30612245  33.32653061  35.34693878  37.36734694  39.3877551 ]\n",
      " [ 41.40816327  43.42857143  45.44897959  47.46938776  49.48979592]\n",
      " [ 51.51020408  53.53061224  55.55102041  57.57142857  59.59183673]\n",
      " [ 61.6122449   63.63265306  65.65306122  67.67346939  69.69387755]\n",
      " [ 71.71428571  73.73469388  75.75510204  77.7755102   79.79591837]\n",
      " [ 81.81632653  83.83673469  85.85714286  87.87755102  89.89795918]\n",
      " [ 91.91836735  93.93877551  95.95918367  97.97959184 100.        ]]\n",
      "=>1D MATRIX RESHAPED TO 3D\n",
      "[[[  1.           3.02040816]\n",
      "  [  5.04081633   7.06122449]\n",
      "  [  9.08163265  11.10204082]\n",
      "  [ 13.12244898  15.14285714]\n",
      "  [ 17.16326531  19.18367347]]\n",
      "\n",
      " [[ 21.20408163  23.2244898 ]\n",
      "  [ 25.24489796  27.26530612]\n",
      "  [ 29.28571429  31.30612245]\n",
      "  [ 33.32653061  35.34693878]\n",
      "  [ 37.36734694  39.3877551 ]]\n",
      "\n",
      " [[ 41.40816327  43.42857143]\n",
      "  [ 45.44897959  47.46938776]\n",
      "  [ 49.48979592  51.51020408]\n",
      "  [ 53.53061224  55.55102041]\n",
      "  [ 57.57142857  59.59183673]]\n",
      "\n",
      " [[ 61.6122449   63.63265306]\n",
      "  [ 65.65306122  67.67346939]\n",
      "  [ 69.69387755  71.71428571]\n",
      "  [ 73.73469388  75.75510204]\n",
      "  [ 77.7755102   79.79591837]]\n",
      "\n",
      " [[ 81.81632653  83.83673469]\n",
      "  [ 85.85714286  87.87755102]\n",
      "  [ 89.89795918  91.91836735]\n",
      "  [ 93.93877551  95.95918367]\n",
      "  [ 97.97959184 100.        ]]]\n"
     ]
    }
   ],
   "source": [
    "xseq2 = np.linspace(1,100,50)\n",
    "print(xseq2.size,\"elements\")\n",
    "print('=>1D MATRIX')\n",
    "print(xseq2)\n",
    "print(\"=>1D MATRIX RESHAPED TO 2D\")\n",
    "print(xseq2.reshape(10,5))\n",
    "print(\"=>1D MATRIX RESHAPED TO 3D\")\n",
    "print(xseq2.reshape(5,5,2))"
   ]
  },
  {
   "cell_type": "code",
   "execution_count": 8,
   "metadata": {},
   "outputs": [
    {
     "name": "stdout",
     "output_type": "stream",
     "text": [
      "[[  1.           3.02040816   5.04081633   7.06122449   9.08163265]\n",
      " [ 11.10204082  13.12244898  15.14285714  17.16326531  19.18367347]\n",
      " [ 21.20408163  23.2244898   25.24489796  27.26530612  29.28571429]\n",
      " [ 31.30612245  33.32653061  35.34693878  37.36734694  39.3877551 ]\n",
      " [ 41.40816327  43.42857143  45.44897959  47.46938776  49.48979592]\n",
      " [ 51.51020408  53.53061224  55.55102041  57.57142857  59.59183673]\n",
      " [ 61.6122449   63.63265306  65.65306122  67.67346939  69.69387755]\n",
      " [ 71.71428571  73.73469388  75.75510204  77.7755102   79.79591837]\n",
      " [ 81.81632653  83.83673469  85.85714286  87.87755102  89.89795918]\n",
      " [ 91.91836735  93.93877551  95.95918367  97.97959184 100.        ]]\n"
     ]
    }
   ],
   "source": [
    "xseq2 = xseq2.reshape(10,5)\n",
    "print(xseq2)"
   ]
  },
  {
   "cell_type": "code",
   "execution_count": 9,
   "metadata": {},
   "outputs": [
    {
     "data": {
      "text/plain": [
       "array([[1, 1, 1, 1, 1],\n",
       "       [1, 1, 1, 1, 1],\n",
       "       [1, 1, 1, 1, 1],\n",
       "       [1, 1, 1, 1, 1],\n",
       "       [1, 1, 1, 1, 1]])"
      ]
     },
     "execution_count": 9,
     "metadata": {},
     "output_type": "execute_result"
    }
   ],
   "source": [
    "np.ones((5,5), dtype = 'int')"
   ]
  },
  {
   "cell_type": "markdown",
   "metadata": {},
   "source": [
    " - Indexing and Slicing \n",
    " - Boolean Filter\n",
    " - Maths and Stats\n",
    " - Methods"
   ]
  },
  {
   "cell_type": "code",
   "execution_count": 10,
   "metadata": {},
   "outputs": [
    {
     "data": {
      "text/plain": [
       "array([[74,  7, 11, 64, 83],\n",
       "       [30, 29, 58, 97, 65],\n",
       "       [27, 19, 87, 77,  5],\n",
       "       [69, 82,  5, 55, 60],\n",
       "       [93, 64, 44, 16, 32]])"
      ]
     },
     "execution_count": 10,
     "metadata": {},
     "output_type": "execute_result"
    }
   ],
   "source": [
    "x25"
   ]
  },
  {
   "cell_type": "code",
   "execution_count": 11,
   "metadata": {},
   "outputs": [
    {
     "name": "stdout",
     "output_type": "stream",
     "text": [
      "[74  7 11 64 83]\n"
     ]
    }
   ],
   "source": [
    "# first row \n",
    "print(x25[0])"
   ]
  },
  {
   "cell_type": "code",
   "execution_count": 12,
   "metadata": {},
   "outputs": [
    {
     "name": "stdout",
     "output_type": "stream",
     "text": [
      "[93 64 44 16 32]\n"
     ]
    }
   ],
   "source": [
    "#last row \n",
    "print(x25[-1])\n"
   ]
  },
  {
   "cell_type": "code",
   "execution_count": 13,
   "metadata": {},
   "outputs": [
    {
     "name": "stdout",
     "output_type": "stream",
     "text": [
      "7\n"
     ]
    }
   ],
   "source": [
    "# single element\n",
    "print(x25[0,1]) # works same as print(x25[0][1])"
   ]
  },
  {
   "cell_type": "code",
   "execution_count": 14,
   "metadata": {},
   "outputs": [
    {
     "name": "stdout",
     "output_type": "stream",
     "text": [
      "[74 30 27 69 93]\n",
      "[ 7 29 19 82 64]\n",
      "[83 65  5 60 32]\n"
     ]
    }
   ],
   "source": [
    "# 1st column \n",
    "print(x25[:,0])\n",
    "\n",
    "# 2nd column\n",
    "print(x25[: ,1])\n",
    "\n",
    "# 3rd column \n",
    "print(x25[:, -1])"
   ]
  },
  {
   "cell_type": "code",
   "execution_count": 15,
   "metadata": {},
   "outputs": [
    {
     "name": "stdout",
     "output_type": "stream",
     "text": [
      "[[74  7]\n",
      " [30 29]\n",
      " [27 19]\n",
      " [69 82]\n",
      " [93 64]]\n"
     ]
    }
   ],
   "source": [
    "# column 0 and 1 indexs \n",
    "print(x25[:,[0,1]])"
   ]
  },
  {
   "cell_type": "code",
   "execution_count": 16,
   "metadata": {},
   "outputs": [
    {
     "name": "stdout",
     "output_type": "stream",
     "text": [
      "[[74  7]\n",
      " [30 29]\n",
      " [27 19]\n",
      " [69 82]\n",
      " [93 64]]\n",
      "[[74  7 11]\n",
      " [30 29 58]\n",
      " [27 19 87]\n",
      " [69 82  5]\n",
      " [93 64 44]]\n"
     ]
    }
   ],
   "source": [
    "# column 0,1,2 indexs \n",
    "print(x25[:,[0,1]])\n",
    "# same thing as above \n",
    "print(x25[:,:3]) "
   ]
  },
  {
   "cell_type": "code",
   "execution_count": 17,
   "metadata": {},
   "outputs": [
    {
     "name": "stdout",
     "output_type": "stream",
     "text": [
      "7\n",
      "11\n",
      "19\n",
      "5\n",
      "5\n",
      "16\n"
     ]
    }
   ],
   "source": [
    "# filtering data without numpy boolean filter (bad idea)\n",
    "for i in x25:\n",
    "    for j in i :\n",
    "        if j <=  20:\n",
    "            print(j)"
   ]
  },
  {
   "cell_type": "code",
   "execution_count": 18,
   "metadata": {},
   "outputs": [
    {
     "data": {
      "text/plain": [
       "array([[False,  True,  True, False, False],\n",
       "       [False, False, False, False, False],\n",
       "       [False,  True, False, False,  True],\n",
       "       [False, False,  True, False, False],\n",
       "       [False, False, False,  True, False]])"
      ]
     },
     "execution_count": 18,
     "metadata": {},
     "output_type": "execute_result"
    }
   ],
   "source": [
    "x25 <= 20 # boolean filter "
   ]
  },
  {
   "cell_type": "code",
   "execution_count": 19,
   "metadata": {},
   "outputs": [
    {
     "data": {
      "text/plain": [
       "array([ 7, 11, 19,  5,  5, 16])"
      ]
     },
     "execution_count": 19,
     "metadata": {},
     "output_type": "execute_result"
    }
   ],
   "source": [
    "x25[x25 <= 20]"
   ]
  },
  {
   "cell_type": "code",
   "execution_count": 20,
   "metadata": {},
   "outputs": [
    {
     "data": {
      "text/plain": [
       "array([74, 64, 83, 58, 97, 65, 87, 77, 69, 82, 55, 60, 93, 64])"
      ]
     },
     "execution_count": 20,
     "metadata": {},
     "output_type": "execute_result"
    }
   ],
   "source": [
    "x25[x25 > 50]"
   ]
  },
  {
   "cell_type": "code",
   "execution_count": 21,
   "metadata": {},
   "outputs": [
    {
     "data": {
      "text/plain": [
       "array([[False, False, False,  True, False],\n",
       "       [ True,  True,  True, False,  True],\n",
       "       [ True, False, False, False, False],\n",
       "       [ True, False, False,  True,  True],\n",
       "       [False,  True,  True, False,  True]])"
      ]
     },
     "execution_count": 21,
     "metadata": {},
     "output_type": "execute_result"
    }
   ],
   "source": [
    "(x25 > 20) & (x25 < 70)"
   ]
  },
  {
   "cell_type": "code",
   "execution_count": 22,
   "metadata": {},
   "outputs": [
    {
     "data": {
      "text/plain": [
       "array([64, 30, 29, 58, 65, 27, 69, 55, 60, 64, 44, 32])"
      ]
     },
     "execution_count": 22,
     "metadata": {},
     "output_type": "execute_result"
    }
   ],
   "source": [
    "x25[(x25 > 20) & (x25 < 70)]"
   ]
  },
  {
   "cell_type": "code",
   "execution_count": 23,
   "metadata": {},
   "outputs": [
    {
     "data": {
      "text/plain": [
       "array([74,  7, 11, 64, 83, 30, 29, 58, 97, 65, 27, 19, 87, 77,  5, 69, 82,\n",
       "        5, 55, 60, 93, 64, 44, 16, 32,  1,  2,  3,  4,  5])"
      ]
     },
     "execution_count": 23,
     "metadata": {},
     "output_type": "execute_result"
    }
   ],
   "source": [
    "np.append(x25,[1,2,3,4,5]) # not as exoected , but works"
   ]
  },
  {
   "cell_type": "code",
   "execution_count": 24,
   "metadata": {},
   "outputs": [
    {
     "data": {
      "text/plain": [
       "array([[74,  7, 11, 64, 83],\n",
       "       [30, 29, 58, 97, 65],\n",
       "       [27, 19, 87, 77,  5],\n",
       "       [69, 82,  5, 55, 60],\n",
       "       [93, 64, 44, 16, 32],\n",
       "       [ 1,  2,  3,  4,  5]])"
      ]
     },
     "execution_count": 24,
     "metadata": {},
     "output_type": "execute_result"
    }
   ],
   "source": [
    "np.append(x25 , np.array([[1,2,3,4,5]]), axis=0)\n"
   ]
  },
  {
   "cell_type": "code",
   "execution_count": 25,
   "metadata": {},
   "outputs": [],
   "source": [
    "a = np.random.randint(1,100,(3,2))\n",
    "b = np.random.randint(1,100,(2,3))"
   ]
  },
  {
   "cell_type": "code",
   "execution_count": 26,
   "metadata": {},
   "outputs": [
    {
     "name": "stdout",
     "output_type": "stream",
     "text": [
      "(3, 2)\n",
      "(2, 3)\n"
     ]
    }
   ],
   "source": [
    "print(a.shape)\n",
    "print(b.shape)"
   ]
  },
  {
   "cell_type": "code",
   "execution_count": 27,
   "metadata": {},
   "outputs": [
    {
     "data": {
      "text/plain": [
       "array([[58, 86, 35],\n",
       "       [52, 77, 18]])"
      ]
     },
     "execution_count": 27,
     "metadata": {},
     "output_type": "execute_result"
    }
   ],
   "source": [
    "a.T # same as transpose of matrix"
   ]
  },
  {
   "cell_type": "code",
   "execution_count": 28,
   "metadata": {},
   "outputs": [
    {
     "name": "stdout",
     "output_type": "stream",
     "text": [
      "[[58 52 31 60]\n",
      " [86 77 20  2]\n",
      " [35 18 33 22]]\n"
     ]
    }
   ],
   "source": [
    "print(np.hstack((a,b.T)))"
   ]
  },
  {
   "cell_type": "code",
   "execution_count": 29,
   "metadata": {},
   "outputs": [
    {
     "name": "stdout",
     "output_type": "stream",
     "text": [
      "[[58 86 35 31 20 33]\n",
      " [52 77 18 60  2 22]]\n"
     ]
    }
   ],
   "source": [
    "print(np.hstack((a.T,b)))"
   ]
  },
  {
   "cell_type": "code",
   "execution_count": 30,
   "metadata": {},
   "outputs": [
    {
     "name": "stdout",
     "output_type": "stream",
     "text": [
      "[[58 52]\n",
      " [86 77]\n",
      " [35 18]\n",
      " [31 60]\n",
      " [20  2]\n",
      " [33 22]]\n",
      "[[58 86 35]\n",
      " [52 77 18]\n",
      " [31 20 33]\n",
      " [60  2 22]]\n"
     ]
    }
   ],
   "source": [
    "print(np.vstack((a,b.T)))\n",
    "print(np.vstack((a.T,b)))"
   ]
  },
  {
   "cell_type": "code",
   "execution_count": null,
   "metadata": {},
   "outputs": [],
   "source": []
  }
 ],
 "metadata": {
  "kernelspec": {
   "display_name": "Python 3.9.12 ('base')",
   "language": "python",
   "name": "python3"
  },
  "language_info": {
   "codemirror_mode": {
    "name": "ipython",
    "version": 3
   },
   "file_extension": ".py",
   "mimetype": "text/x-python",
   "name": "python",
   "nbconvert_exporter": "python",
   "pygments_lexer": "ipython3",
   "version": "3.9.12"
  },
  "orig_nbformat": 4,
  "vscode": {
   "interpreter": {
    "hash": "ad09bb94b98bbd5808ef9f9ec51e05a317322e67166a9b2689cc493a4d51385b"
   }
  }
 },
 "nbformat": 4,
 "nbformat_minor": 2
}
