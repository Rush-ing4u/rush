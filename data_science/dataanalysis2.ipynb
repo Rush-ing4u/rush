{
 "cells": [
  {
   "cell_type": "markdown",
   "metadata": {},
   "source": [
    "*Cleaning of data a.k.a Preprocessing*"
   ]
  },
  {
   "cell_type": "code",
   "execution_count": 1,
   "metadata": {},
   "outputs": [],
   "source": [
    "import pandas as pd \n",
    "import numpy as np \n",
    "import matplotlib.pyplot as plt\n",
    "import os"
   ]
  },
  {
   "cell_type": "code",
   "execution_count": 2,
   "metadata": {},
   "outputs": [
    {
     "name": "stdout",
     "output_type": "stream",
     "text": [
      "<class 'pandas.core.frame.DataFrame'>\n",
      "Int64Index: 432 entries, 0 to 431\n",
      "Data columns (total 3 columns):\n",
      " #   Column  Non-Null Count  Dtype \n",
      "---  ------  --------------  ----- \n",
      " 0   title   432 non-null    object\n",
      " 1   price   432 non-null    object\n",
      " 2   link    432 non-null    object\n",
      "dtypes: object(3)\n",
      "memory usage: 13.5+ KB\n",
      "None\n"
     ]
    }
   ],
   "source": [
    "filepath = 'laptop_data.csv'\n",
    "if not os.path.exists(filepath):\n",
    "    print('file not found')\n",
    "else:\n",
    "    df = pd.read_csv(filepath,index_col=0)\n",
    "    print(df.info())"
   ]
  },
  {
   "cell_type": "code",
   "execution_count": 3,
   "metadata": {},
   "outputs": [
    {
     "data": {
      "text/html": [
       "<div>\n",
       "<style scoped>\n",
       "    .dataframe tbody tr th:only-of-type {\n",
       "        vertical-align: middle;\n",
       "    }\n",
       "\n",
       "    .dataframe tbody tr th {\n",
       "        vertical-align: top;\n",
       "    }\n",
       "\n",
       "    .dataframe thead th {\n",
       "        text-align: right;\n",
       "    }\n",
       "</style>\n",
       "<table border=\"1\" class=\"dataframe\">\n",
       "  <thead>\n",
       "    <tr style=\"text-align: right;\">\n",
       "      <th></th>\n",
       "      <th>title</th>\n",
       "      <th>price</th>\n",
       "      <th>link</th>\n",
       "    </tr>\n",
       "  </thead>\n",
       "  <tbody>\n",
       "    <tr>\n",
       "      <th>0</th>\n",
       "      <td>Lenovo IdeaPad 3 Core i3 11th Gen - (8 GB/512 ...</td>\n",
       "      <td>₹33,990</td>\n",
       "      <td>/lenovo-ideapad-3-core-i3-11th-gen-8-gb-512-gb...</td>\n",
       "    </tr>\n",
       "    <tr>\n",
       "      <th>1</th>\n",
       "      <td>Lenovo IdeaPad Gaming Core i5 11th Gen - (8 GB...</td>\n",
       "      <td>₹46,990</td>\n",
       "      <td>/lenovo-ideapad-gaming-core-i5-11th-gen-8-gb-5...</td>\n",
       "    </tr>\n",
       "    <tr>\n",
       "      <th>2</th>\n",
       "      <td>ASUS VivoBook K15 OLED Ryzen 7 Octa Core AMD R...</td>\n",
       "      <td>₹56,890</td>\n",
       "      <td>/asus-vivobook-k15-oled-ryzen-7-octa-core-amd-...</td>\n",
       "    </tr>\n",
       "    <tr>\n",
       "      <th>3</th>\n",
       "      <td>ASUS Vivobook 15 Ryzen 3 Dual Core AMD R3-3250...</td>\n",
       "      <td>₹26,890</td>\n",
       "      <td>/asus-vivobook-15-ryzen-3-dual-core-amd-r3-325...</td>\n",
       "    </tr>\n",
       "    <tr>\n",
       "      <th>4</th>\n",
       "      <td>HP Core i5 12th Gen - (16 GB/512 GB SSD/Window...</td>\n",
       "      <td>₹57,890</td>\n",
       "      <td>/hp-core-i5-12th-gen-16-gb-512-gb-ssd-windows-...</td>\n",
       "    </tr>\n",
       "    <tr>\n",
       "      <th>...</th>\n",
       "      <td>...</td>\n",
       "      <td>...</td>\n",
       "      <td>...</td>\n",
       "    </tr>\n",
       "    <tr>\n",
       "      <th>427</th>\n",
       "      <td>Lenovo IdeaPad Gaming 3 Core i5 11th Gen - (8 ...</td>\n",
       "      <td>₹58,990</td>\n",
       "      <td>/lenovo-ideapad-gaming-3-core-i5-11th-gen-8-gb...</td>\n",
       "    </tr>\n",
       "    <tr>\n",
       "      <th>428</th>\n",
       "      <td>HP Pavilion x360 Core i3 10th Gen - (8 GB/256 ...</td>\n",
       "      <td>₹48,529</td>\n",
       "      <td>/hp-pavilion-x360-core-i3-10th-gen-8-gb-256-gb...</td>\n",
       "    </tr>\n",
       "    <tr>\n",
       "      <th>429</th>\n",
       "      <td>HP HP ZBook Firefly Core i7 11th Gen - (16 GB/...</td>\n",
       "      <td>₹99,900</td>\n",
       "      <td>/hp-zbook-firefly-core-i7-11th-gen-16-gb-1-tb-...</td>\n",
       "    </tr>\n",
       "    <tr>\n",
       "      <th>430</th>\n",
       "      <td>DELL Vostro Core i5 11th Gen - (8 GB/1 TB HDD/...</td>\n",
       "      <td>₹48,990</td>\n",
       "      <td>/dell-vostro-core-i5-11th-gen-8-gb-1-tb-hdd-wi...</td>\n",
       "    </tr>\n",
       "    <tr>\n",
       "      <th>431</th>\n",
       "      <td>Lenovo IdeaPad 3 Core i5 12th Gen - (16 GB/512...</td>\n",
       "      <td>₹56,990</td>\n",
       "      <td>/lenovo-ideapad-3-core-i5-12th-gen-16-gb-512-g...</td>\n",
       "    </tr>\n",
       "  </tbody>\n",
       "</table>\n",
       "<p>432 rows × 3 columns</p>\n",
       "</div>"
      ],
      "text/plain": [
       "                                                 title    price  \\\n",
       "0    Lenovo IdeaPad 3 Core i3 11th Gen - (8 GB/512 ...  ₹33,990   \n",
       "1    Lenovo IdeaPad Gaming Core i5 11th Gen - (8 GB...  ₹46,990   \n",
       "2    ASUS VivoBook K15 OLED Ryzen 7 Octa Core AMD R...  ₹56,890   \n",
       "3    ASUS Vivobook 15 Ryzen 3 Dual Core AMD R3-3250...  ₹26,890   \n",
       "4    HP Core i5 12th Gen - (16 GB/512 GB SSD/Window...  ₹57,890   \n",
       "..                                                 ...      ...   \n",
       "427  Lenovo IdeaPad Gaming 3 Core i5 11th Gen - (8 ...  ₹58,990   \n",
       "428  HP Pavilion x360 Core i3 10th Gen - (8 GB/256 ...  ₹48,529   \n",
       "429  HP HP ZBook Firefly Core i7 11th Gen - (16 GB/...  ₹99,900   \n",
       "430  DELL Vostro Core i5 11th Gen - (8 GB/1 TB HDD/...  ₹48,990   \n",
       "431  Lenovo IdeaPad 3 Core i5 12th Gen - (16 GB/512...  ₹56,990   \n",
       "\n",
       "                                                  link  \n",
       "0    /lenovo-ideapad-3-core-i3-11th-gen-8-gb-512-gb...  \n",
       "1    /lenovo-ideapad-gaming-core-i5-11th-gen-8-gb-5...  \n",
       "2    /asus-vivobook-k15-oled-ryzen-7-octa-core-amd-...  \n",
       "3    /asus-vivobook-15-ryzen-3-dual-core-amd-r3-325...  \n",
       "4    /hp-core-i5-12th-gen-16-gb-512-gb-ssd-windows-...  \n",
       "..                                                 ...  \n",
       "427  /lenovo-ideapad-gaming-3-core-i5-11th-gen-8-gb...  \n",
       "428  /hp-pavilion-x360-core-i3-10th-gen-8-gb-256-gb...  \n",
       "429  /hp-zbook-firefly-core-i7-11th-gen-16-gb-1-tb-...  \n",
       "430  /dell-vostro-core-i5-11th-gen-8-gb-1-tb-hdd-wi...  \n",
       "431  /lenovo-ideapad-3-core-i5-12th-gen-16-gb-512-g...  \n",
       "\n",
       "[432 rows x 3 columns]"
      ]
     },
     "execution_count": 3,
     "metadata": {},
     "output_type": "execute_result"
    }
   ],
   "source": [
    "df"
   ]
  },
  {
   "cell_type": "code",
   "execution_count": 4,
   "metadata": {},
   "outputs": [
    {
     "data": {
      "text/plain": [
       "136"
      ]
     },
     "execution_count": 4,
     "metadata": {},
     "output_type": "execute_result"
    }
   ],
   "source": [
    "df['title'].duplicated().sum()"
   ]
  },
  {
   "cell_type": "code",
   "execution_count": 5,
   "metadata": {},
   "outputs": [
    {
     "data": {
      "text/html": [
       "<div>\n",
       "<style scoped>\n",
       "    .dataframe tbody tr th:only-of-type {\n",
       "        vertical-align: middle;\n",
       "    }\n",
       "\n",
       "    .dataframe tbody tr th {\n",
       "        vertical-align: top;\n",
       "    }\n",
       "\n",
       "    .dataframe thead th {\n",
       "        text-align: right;\n",
       "    }\n",
       "</style>\n",
       "<table border=\"1\" class=\"dataframe\">\n",
       "  <thead>\n",
       "    <tr style=\"text-align: right;\">\n",
       "      <th></th>\n",
       "      <th>title</th>\n",
       "      <th>price</th>\n",
       "      <th>link</th>\n",
       "    </tr>\n",
       "  </thead>\n",
       "  <tbody>\n",
       "    <tr>\n",
       "      <th>27</th>\n",
       "      <td>Lenovo IdeaPad Gaming Core i5 11th Gen - (8 GB...</td>\n",
       "      <td>₹46,990</td>\n",
       "      <td>/lenovo-ideapad-gaming-core-i5-11th-gen-8-gb-5...</td>\n",
       "    </tr>\n",
       "    <tr>\n",
       "      <th>31</th>\n",
       "      <td>Lenovo IdeaPad 3 Core i3 11th Gen - (8 GB/512 ...</td>\n",
       "      <td>₹33,990</td>\n",
       "      <td>/lenovo-ideapad-3-core-i3-11th-gen-8-gb-512-gb...</td>\n",
       "    </tr>\n",
       "    <tr>\n",
       "      <th>35</th>\n",
       "      <td>ASUS TUF Gaming A15 Ryzen 5 Hexa Core AMD R5-4...</td>\n",
       "      <td>₹54,890</td>\n",
       "      <td>/asus-tuf-gaming-a15-ryzen-5-hexa-core-amd-r5-...</td>\n",
       "    </tr>\n",
       "    <tr>\n",
       "      <th>43</th>\n",
       "      <td>Lenovo IdeaPad Gaming 3 Core i5 11th Gen - (8 ...</td>\n",
       "      <td>₹58,990</td>\n",
       "      <td>/lenovo-ideapad-gaming-3-core-i5-11th-gen-8-gb...</td>\n",
       "    </tr>\n",
       "    <tr>\n",
       "      <th>47</th>\n",
       "      <td>Lenovo IdeaPad 3 Core i5 12th Gen - (16 GB/512...</td>\n",
       "      <td>₹56,990</td>\n",
       "      <td>/lenovo-ideapad-3-core-i5-12th-gen-16-gb-512-g...</td>\n",
       "    </tr>\n",
       "    <tr>\n",
       "      <th>...</th>\n",
       "      <td>...</td>\n",
       "      <td>...</td>\n",
       "      <td>...</td>\n",
       "    </tr>\n",
       "    <tr>\n",
       "      <th>426</th>\n",
       "      <td>HP OMEN Ryzen 7 Octa Core AMD R7-5800H - (16 G...</td>\n",
       "      <td>₹1,12,890</td>\n",
       "      <td>/hp-omen-ryzen-7-octa-core-amd-r7-5800h-16-gb-...</td>\n",
       "    </tr>\n",
       "    <tr>\n",
       "      <th>427</th>\n",
       "      <td>Lenovo IdeaPad Gaming 3 Core i5 11th Gen - (8 ...</td>\n",
       "      <td>₹58,990</td>\n",
       "      <td>/lenovo-ideapad-gaming-3-core-i5-11th-gen-8-gb...</td>\n",
       "    </tr>\n",
       "    <tr>\n",
       "      <th>428</th>\n",
       "      <td>HP Pavilion x360 Core i3 10th Gen - (8 GB/256 ...</td>\n",
       "      <td>₹48,529</td>\n",
       "      <td>/hp-pavilion-x360-core-i3-10th-gen-8-gb-256-gb...</td>\n",
       "    </tr>\n",
       "    <tr>\n",
       "      <th>429</th>\n",
       "      <td>HP HP ZBook Firefly Core i7 11th Gen - (16 GB/...</td>\n",
       "      <td>₹99,900</td>\n",
       "      <td>/hp-zbook-firefly-core-i7-11th-gen-16-gb-1-tb-...</td>\n",
       "    </tr>\n",
       "    <tr>\n",
       "      <th>431</th>\n",
       "      <td>Lenovo IdeaPad 3 Core i5 12th Gen - (16 GB/512...</td>\n",
       "      <td>₹56,990</td>\n",
       "      <td>/lenovo-ideapad-3-core-i5-12th-gen-16-gb-512-g...</td>\n",
       "    </tr>\n",
       "  </tbody>\n",
       "</table>\n",
       "<p>136 rows × 3 columns</p>\n",
       "</div>"
      ],
      "text/plain": [
       "                                                 title      price  \\\n",
       "27   Lenovo IdeaPad Gaming Core i5 11th Gen - (8 GB...    ₹46,990   \n",
       "31   Lenovo IdeaPad 3 Core i3 11th Gen - (8 GB/512 ...    ₹33,990   \n",
       "35   ASUS TUF Gaming A15 Ryzen 5 Hexa Core AMD R5-4...    ₹54,890   \n",
       "43   Lenovo IdeaPad Gaming 3 Core i5 11th Gen - (8 ...    ₹58,990   \n",
       "47   Lenovo IdeaPad 3 Core i5 12th Gen - (16 GB/512...    ₹56,990   \n",
       "..                                                 ...        ...   \n",
       "426  HP OMEN Ryzen 7 Octa Core AMD R7-5800H - (16 G...  ₹1,12,890   \n",
       "427  Lenovo IdeaPad Gaming 3 Core i5 11th Gen - (8 ...    ₹58,990   \n",
       "428  HP Pavilion x360 Core i3 10th Gen - (8 GB/256 ...    ₹48,529   \n",
       "429  HP HP ZBook Firefly Core i7 11th Gen - (16 GB/...    ₹99,900   \n",
       "431  Lenovo IdeaPad 3 Core i5 12th Gen - (16 GB/512...    ₹56,990   \n",
       "\n",
       "                                                  link  \n",
       "27   /lenovo-ideapad-gaming-core-i5-11th-gen-8-gb-5...  \n",
       "31   /lenovo-ideapad-3-core-i3-11th-gen-8-gb-512-gb...  \n",
       "35   /asus-tuf-gaming-a15-ryzen-5-hexa-core-amd-r5-...  \n",
       "43   /lenovo-ideapad-gaming-3-core-i5-11th-gen-8-gb...  \n",
       "47   /lenovo-ideapad-3-core-i5-12th-gen-16-gb-512-g...  \n",
       "..                                                 ...  \n",
       "426  /hp-omen-ryzen-7-octa-core-amd-r7-5800h-16-gb-...  \n",
       "427  /lenovo-ideapad-gaming-3-core-i5-11th-gen-8-gb...  \n",
       "428  /hp-pavilion-x360-core-i3-10th-gen-8-gb-256-gb...  \n",
       "429  /hp-zbook-firefly-core-i7-11th-gen-16-gb-1-tb-...  \n",
       "431  /lenovo-ideapad-3-core-i5-12th-gen-16-gb-512-g...  \n",
       "\n",
       "[136 rows x 3 columns]"
      ]
     },
     "execution_count": 5,
     "metadata": {},
     "output_type": "execute_result"
    }
   ],
   "source": [
    "df[df['title'].duplicated()] # list all the duplicated titles\n"
   ]
  },
  {
   "cell_type": "markdown",
   "metadata": {},
   "source": [
    "`single line exprression in mathematics i.e., functions f(x) is lambda expression in python`\n",
    " - LAMBDA expression \n",
    "       \n",
    "       * f = lambda x: x*2\n",
    "       * f(5) = 10\n"
   ]
  },
  {
   "cell_type": "code",
   "execution_count": 6,
   "metadata": {},
   "outputs": [
    {
     "name": "stdout",
     "output_type": "stream",
     "text": [
      "16\n",
      "11\n"
     ]
    }
   ],
   "source": [
    "f = lambda i:i*4\n",
    "print(f(4))\n",
    "g = lambda x,y : x+y **2\n",
    "print(g(2,3))"
   ]
  },
  {
   "cell_type": "code",
   "execution_count": 7,
   "metadata": {},
   "outputs": [],
   "source": [
    "# this is stupid , don't use this , use apply(), applymap() method \n",
    "#for row in df.iterrows()\n",
    "# print(row)"
   ]
  },
  {
   "cell_type": "code",
   "execution_count": 8,
   "metadata": {},
   "outputs": [],
   "source": [
    "df['price_clean'] = df['price'].apply(lambda val:int( val[1:].replace(',','')))"
   ]
  },
  {
   "cell_type": "code",
   "execution_count": 9,
   "metadata": {},
   "outputs": [
    {
     "data": {
      "text/plain": [
       "390990"
      ]
     },
     "execution_count": 9,
     "metadata": {},
     "output_type": "execute_result"
    }
   ],
   "source": [
    "int('₹3,90,990'[1:].replace(',',''))"
   ]
  },
  {
   "cell_type": "code",
   "execution_count": 10,
   "metadata": {},
   "outputs": [],
   "source": [
    "df.sort_values(by = 'price_clean', ascending = False , inplace = True)"
   ]
  },
  {
   "cell_type": "code",
   "execution_count": 11,
   "metadata": {},
   "outputs": [
    {
     "data": {
      "text/html": [
       "<div>\n",
       "<style scoped>\n",
       "    .dataframe tbody tr th:only-of-type {\n",
       "        vertical-align: middle;\n",
       "    }\n",
       "\n",
       "    .dataframe tbody tr th {\n",
       "        vertical-align: top;\n",
       "    }\n",
       "\n",
       "    .dataframe thead th {\n",
       "        text-align: right;\n",
       "    }\n",
       "</style>\n",
       "<table border=\"1\" class=\"dataframe\">\n",
       "  <thead>\n",
       "    <tr style=\"text-align: right;\">\n",
       "      <th></th>\n",
       "      <th>title</th>\n",
       "      <th>price</th>\n",
       "      <th>link</th>\n",
       "      <th>price_clean</th>\n",
       "    </tr>\n",
       "  </thead>\n",
       "  <tbody>\n",
       "    <tr>\n",
       "      <th>141</th>\n",
       "      <td>acer Aspire 3 Dual Core 3020e - (4 GB/256 GB S...</td>\n",
       "      <td>₹21,890</td>\n",
       "      <td>/acer-aspire-3-dual-core-3020e-4-gb-256-gb-ssd...</td>\n",
       "      <td>21890</td>\n",
       "    </tr>\n",
       "    <tr>\n",
       "      <th>386</th>\n",
       "      <td>ASUS EeeBook 12 Celeron Dual Core - (4 GB/64 G...</td>\n",
       "      <td>₹20,890</td>\n",
       "      <td>/asus-eeebook-12-celeron-dual-core-4-gb-64-gb-...</td>\n",
       "      <td>20890</td>\n",
       "    </tr>\n",
       "    <tr>\n",
       "      <th>138</th>\n",
       "      <td>ASUS (2022) Celeron Dual Core - (4 GB/128 GB S...</td>\n",
       "      <td>₹17,990</td>\n",
       "      <td>/asus-2022-celeron-dual-core-4-gb-128-gb-ssd-w...</td>\n",
       "      <td>17990</td>\n",
       "    </tr>\n",
       "    <tr>\n",
       "      <th>332</th>\n",
       "      <td>Avita SATUS ULTIMUS S111 Celeron Dual Core - (...</td>\n",
       "      <td>₹17,890</td>\n",
       "      <td>/avita-satus-ultimus-s111-celeron-dual-core-4-...</td>\n",
       "      <td>17890</td>\n",
       "    </tr>\n",
       "    <tr>\n",
       "      <th>230</th>\n",
       "      <td>ASUS Chromebook Flip Celeron Dual Core - (4 GB...</td>\n",
       "      <td>₹15,990</td>\n",
       "      <td>/asus-chromebook-flip-celeron-dual-core-4-gb-3...</td>\n",
       "      <td>15990</td>\n",
       "    </tr>\n",
       "  </tbody>\n",
       "</table>\n",
       "</div>"
      ],
      "text/plain": [
       "                                                 title    price  \\\n",
       "141  acer Aspire 3 Dual Core 3020e - (4 GB/256 GB S...  ₹21,890   \n",
       "386  ASUS EeeBook 12 Celeron Dual Core - (4 GB/64 G...  ₹20,890   \n",
       "138  ASUS (2022) Celeron Dual Core - (4 GB/128 GB S...  ₹17,990   \n",
       "332  Avita SATUS ULTIMUS S111 Celeron Dual Core - (...  ₹17,890   \n",
       "230  ASUS Chromebook Flip Celeron Dual Core - (4 GB...  ₹15,990   \n",
       "\n",
       "                                                  link  price_clean  \n",
       "141  /acer-aspire-3-dual-core-3020e-4-gb-256-gb-ssd...        21890  \n",
       "386  /asus-eeebook-12-celeron-dual-core-4-gb-64-gb-...        20890  \n",
       "138  /asus-2022-celeron-dual-core-4-gb-128-gb-ssd-w...        17990  \n",
       "332  /avita-satus-ultimus-s111-celeron-dual-core-4-...        17890  \n",
       "230  /asus-chromebook-flip-celeron-dual-core-4-gb-3...        15990  "
      ]
     },
     "execution_count": 11,
     "metadata": {},
     "output_type": "execute_result"
    }
   ],
   "source": [
    "df.tail()"
   ]
  },
  {
   "cell_type": "code",
   "execution_count": 12,
   "metadata": {},
   "outputs": [],
   "source": [
    "def clean_title(title):\n",
    "    return title.split('-')[0].strip() , title.split('-')[1].strip()\n",
    "\n",
    "df[['name','configuration']] = df['title'].apply(clean_title).apply(pd.Series)"
   ]
  },
  {
   "cell_type": "code",
   "execution_count": 13,
   "metadata": {},
   "outputs": [],
   "source": [
    "def get_brand(name):\n",
    "    return name.split()[0]\n",
    "    \n",
    "df['brand'] = df['name'].apply(get_brand)"
   ]
  },
  {
   "cell_type": "code",
   "execution_count": 14,
   "metadata": {},
   "outputs": [
    {
     "data": {
      "text/plain": [
       "385            [(32, GB/2, TB, SSD/Windows, 11, Home...]\n",
       "178    [(32, GB/1, TB, SSD/Mac, OS, Monterey), MK1H3H...\n",
       "254    [(16, GB/1, TB, SSD/Mac, OS, Monterey), MK1F3H...\n",
       "245    [(32, GB/1, TB, SSD/Windows, 11, Home/8, GB, G...\n",
       "286    [(16, GB/1, TB, SSD/Windows, 11, Home/8, GB, G...\n",
       "                             ...                        \n",
       "141       [(4, GB/256, GB, SSD/Windows, 11, Home), A314]\n",
       "386    [(4, GB/64, GB, EMMC, Storage/Windows, 11, Hom...\n",
       "138    [(4, GB/128, GB, SSD/Windows, 11, Home), BR110...\n",
       "332    [(4, GB/128, GB, SSD/Windows, 11, Home), NU14A...\n",
       "230    [(4, GB/32, GB, EMMC, Storage/Chrome, OS), C21...\n",
       "Name: configuration, Length: 432, dtype: object"
      ]
     },
     "execution_count": 14,
     "metadata": {},
     "output_type": "execute_result"
    }
   ],
   "source": [
    "df.configuration.apply(lambda val : val.split())"
   ]
  },
  {
   "cell_type": "code",
   "execution_count": 15,
   "metadata": {},
   "outputs": [
    {
     "data": {
      "text/plain": [
       "Lenovo       139\n",
       "ASUS         122\n",
       "HP            60\n",
       "DELL          38\n",
       "MSI           23\n",
       "acer          18\n",
       "APPLE         12\n",
       "Infinix        9\n",
       "realme         5\n",
       "RedmiBook      2\n",
       "LG             1\n",
       "SAMSUNG        1\n",
       "Nokia          1\n",
       "Avita          1\n",
       "Name: brand, dtype: int64"
      ]
     },
     "execution_count": 15,
     "metadata": {},
     "output_type": "execute_result"
    }
   ],
   "source": [
    "df['brand'].value_counts()"
   ]
  },
  {
   "cell_type": "code",
   "execution_count": 16,
   "metadata": {},
   "outputs": [
    {
     "data": {
      "text/plain": [
       "<AxesSubplot:title={'center':'Brand Distribution'}>"
      ]
     },
     "execution_count": 16,
     "metadata": {},
     "output_type": "execute_result"
    },
    {
     "data": {
      "image/png": "[encoded data removed]",
      "text/plain": [
       "<Figure size 1080x432 with 1 Axes>"
      ]
     },
     "metadata": {
      "needs_background": "light"
     },
     "output_type": "display_data"
    }
   ],
   "source": [
    "df['brand'].value_counts().plot(kind = 'bar', title = 'Brand Distribution' , figsize =(15,6))"
   ]
  },
  {
   "cell_type": "code",
   "execution_count": 17,
   "metadata": {},
   "outputs": [
    {
     "data": {
      "text/plain": [
       "<AxesSubplot:title={'center':'Price Distribution'}>"
      ]
     },
     "execution_count": 17,
     "metadata": {},
     "output_type": "execute_result"
    },
    {
     "data": {
      "image/png": "[encoded data removed]",
      "text/plain": [
       "<Figure size 1080x432 with 1 Axes>"
      ]
     },
     "metadata": {
      "needs_background": "light"
     },
     "output_type": "display_data"
    }
   ],
   "source": [
    "df['price_clean'].plot(kind = 'line', use_index = False , title = 'Price Distribution', figsize = (15,6) )"
   ]
  },
  {
   "cell_type": "code",
   "execution_count": 18,
   "metadata": {},
   "outputs": [
    {
     "data": {
      "text/plain": [
       "<AxesSubplot:>"
      ]
     },
     "execution_count": 18,
     "metadata": {},
     "output_type": "execute_result"
    },
    {
     "data": {
      "image/png": "[encoded data removed]",
      "text/plain": [
       "<Figure size 432x288 with 1 Axes>"
      ]
     },
     "metadata": {
      "needs_background": "light"
     },
     "output_type": "display_data"
    }
   ],
   "source": [
    "df['price_clean'].plot(kind = 'box' )"
   ]
  }
 ],
 "metadata": {
  "kernelspec": {
   "display_name": "Python 3.9.12 ('base')",
   "language": "python",
   "name": "python3"
  },
  "language_info": {
   "codemirror_mode": {
    "name": "ipython",
    "version": 3
   },
   "file_extension": ".py",
   "mimetype": "text/x-python",
   "name": "python",
   "nbconvert_exporter": "python",
   "pygments_lexer": "ipython3",
   "version": "3.9.12"
  },
  "orig_nbformat": 4,
  "vscode": {
   "interpreter": {
    "hash": "ad09bb94b98bbd5808ef9f9ec51e05a317322e67166a9b2689cc493a4d51385b"
   }
  }
 },
 "nbformat": 4,
 "nbformat_minor": 2
}
