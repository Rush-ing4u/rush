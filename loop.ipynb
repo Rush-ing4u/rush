{
 "cells": [
  {
   "cell_type": "code",
   "execution_count": 4,
   "metadata": {},
   "outputs": [
    {
     "name": "stdout",
     "output_type": "stream",
     "text": [
      "0 0\n",
      "0 1\n",
      "1 0\n",
      "1 1\n",
      "2 0\n",
      "2 1\n"
     ]
    }
   ],
   "source": [
    "#nested loop\n",
    "for i in range(3):\n",
    "    for j in range(2):\n",
    "        print(i,j)"
   ]
  },
  {
   "cell_type": "code",
   "execution_count": 1,
   "metadata": {},
   "outputs": [
    {
     "name": "stdout",
     "output_type": "stream",
     "text": [
      "start: 100\n",
      "start: 99\n",
      "start: 98\n",
      "start: 97\n",
      "start: 96\n",
      "start: 95\n",
      "start: 94\n",
      "start: 93\n",
      "start: 92\n",
      "start: 91\n",
      "start: 90\n",
      "start: 89\n",
      "start: 88\n",
      "start: 87\n",
      "start: 86\n",
      "start: 85\n",
      "start: 84\n",
      "start: 83\n",
      "start: 82\n",
      "start: 81\n",
      "start: 80\n",
      "start: 79\n",
      "start: 78\n",
      "start: 77\n",
      "start: 76\n",
      "start: 75\n",
      "start: 74\n",
      "start: 73\n",
      "start: 72\n",
      "start: 71\n",
      "start: 70\n",
      "start: 69\n",
      "start: 68\n",
      "start: 67\n",
      "start: 66\n",
      "start: 65\n",
      "start: 64\n",
      "start: 63\n",
      "start: 62\n",
      "start: 61\n",
      "start: 60\n",
      "start: 59\n",
      "start: 58\n",
      "start: 57\n",
      "start: 56\n",
      "start: 55\n",
      "start: 54\n",
      "start: 53\n",
      "start: 52\n",
      "start: 51\n",
      "start: 50\n",
      "start: 49\n",
      "start: 48\n",
      "start: 47\n",
      "start: 46\n",
      "start: 45\n",
      "start: 44\n",
      "start: 43\n",
      "start: 42\n",
      "start: 41\n",
      "start: 40\n",
      "start: 39\n",
      "start: 38\n",
      "start: 37\n",
      "start: 36\n",
      "start: 35\n",
      "start: 34\n",
      "start: 33\n",
      "start: 32\n",
      "start: 31\n",
      "start: 30\n",
      "start: 29\n",
      "start: 28\n",
      "start: 27\n",
      "start: 26\n",
      "start: 25\n",
      "start: 24\n",
      "start: 23\n",
      "start: 22\n",
      "start: 21\n",
      "start: 20\n",
      "start: 19\n",
      "start: 18\n",
      "start: 17\n",
      "start: 16\n",
      "start: 15\n",
      "start: 14\n",
      "start: 13\n",
      "start: 12\n",
      "start: 11\n",
      "start: 10\n",
      "start: 9\n",
      "start: 8\n",
      "start: 7\n",
      "start: 6\n",
      "start: 5\n",
      "start: 4\n",
      "start: 3\n",
      "start: 2\n",
      "start: 1\n"
     ]
    }
   ],
   "source": [
    "#while loop\n",
    "start= 100\n",
    "while start > 0:\n",
    "    print(\"start:\", start)\n",
    "    start -=1"
   ]
  },
  {
   "cell_type": "code",
   "execution_count": 5,
   "metadata": {},
   "outputs": [
    {
     "name": "stdout",
     "output_type": "stream",
     "text": [
      "0510152025303540455055"
     ]
    }
   ],
   "source": [
    "#while loop 2\n",
    "num=100\n",
    "i=0\n",
    "while i < num:\n",
    "    if i == 60:\n",
    "     break\n",
    "    print(i,end='')\n",
    "    i+=5"
   ]
  },
  {
   "cell_type": "code",
   "execution_count": 6,
   "metadata": {},
   "outputs": [],
   "source": []
  }
 ],
 "metadata": {
  "kernelspec": {
   "display_name": "Python 3.9.12 ('base')",
   "language": "python",
   "name": "python3"
  },
  "language_info": {
   "codemirror_mode": {
    "name": "ipython",
    "version": 3
   },
   "file_extension": ".py",
   "mimetype": "text/x-python",
   "name": "python",
   "nbconvert_exporter": "python",
   "pygments_lexer": "ipython3",
   "version": "3.9.12"
  },
  "orig_nbformat": 4,
  "vscode": {
   "interpreter": {
    "hash": "ad09bb94b98bbd5808ef9f9ec51e05a317322e67166a9b2689cc493a4d51385b"
   }
  }
 },
 "nbformat": 4,
 "nbformat_minor": 2
}
