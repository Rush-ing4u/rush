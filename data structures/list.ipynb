{
 "cells": [
  {
   "cell_type": "code",
   "execution_count": 13,
   "metadata": {},
   "outputs": [],
   "source": [
    "# Defining list in python\n",
    "# List of string\n",
    "list1= [ 'Rushil', 'Hashim','Heba', 'Harsh']\n",
    "# List of numbers \n",
    "list2= [1,2,3,4]\n",
    "# Mixed Data list\n",
    "list3= ['Rushil', 'Hashim',\"B\",False, 23.456893 ,1,2,3,4 ]\n",
    "# Nested list\n",
    "list4=[[1,2,3],[4,5],[6,7,8]]"
   ]
  },
  {
   "cell_type": "code",
   "execution_count": 14,
   "metadata": {},
   "outputs": [
    {
     "name": "stdout",
     "output_type": "stream",
     "text": [
      "list1= [1, 2, 3, 'A', 'B', 4, 5, 6, 'C', 'D']\n",
      "list1[0]= 1\n",
      "list1[4]= B\n",
      "list1=[7] 6\n"
     ]
    }
   ],
   "source": [
    "# Accessing list items in Python -\n",
    "list1= [ 1,2,3,'A','B',4,5,6,'C','D']\n",
    "# First item -\n",
    "print('list1=',list1)\n",
    "# Second item - \n",
    "print('list1[0]=',list1[0])\n",
    "# Third item - \n",
    "print('list1[4]=',list1[4])\n",
    "# Last item -\n",
    "print('list1=[7]',list1[7])"
   ]
  },
  {
   "cell_type": "code",
   "execution_count": 15,
   "metadata": {},
   "outputs": [
    {
     "name": "stdout",
     "output_type": "stream",
     "text": [
      "[40, 50, 60, 70, 80]\n",
      "[10, 20, 30, 40, 50]\n",
      "[10, 20, 30, 40, 50]\n",
      "[70, 80, 90, 100]\n",
      "[60, 70, 80, 90, 100]\n"
     ]
    }
   ],
   "source": [
    "# Getting a list sliced\n",
    "l =[10,20,30,40,50,60,70,80,90,100]\n",
    "slice1 = l[3:-2]\n",
    "print(slice1)\n",
    "slice2 = l[:5]\n",
    "print(slice2)\n",
    "slice3 = l[0:5]\n",
    "print(slice3)\n",
    "slice4 = l[-4:]\n",
    "print(slice4) \n",
    "slice5 = l[5:len(l)]\n",
    "print(slice5)"
   ]
  },
  {
   "cell_type": "markdown",
   "metadata": {},
   "source": [
    "*Function used in list*"
   ]
  },
  {
   "cell_type": "code",
   "execution_count": 16,
   "metadata": {},
   "outputs": [
    {
     "data": {
      "text/plain": [
       "['strawberry', 'rasberry', 'blueberry', 'mulberry']"
      ]
     },
     "execution_count": 16,
     "metadata": {},
     "output_type": "execute_result"
    }
   ],
   "source": [
    "# Append function\n",
    "fruits = []\n",
    "fruits.append(\"strawberry\")\n",
    "fruits.append(\"rasberry\")\n",
    "fruits.append(\"blueberry\")\n",
    "fruits.append(\"mulberry\")\n",
    "fruits\n"
   ]
  },
  {
   "cell_type": "code",
   "execution_count": 17,
   "metadata": {},
   "outputs": [
    {
     "name": "stdout",
     "output_type": "stream",
     "text": [
      "['strawberry', 'rasberry', 'blueberry', 'apple', 'mulberry']\n"
     ]
    }
   ],
   "source": [
    "# Insert function \n",
    "\n",
    "fruits = ['strawberry', 'rasberry', 'blueberry', 'mulberry']\n",
    "fruits.insert(3,\"apple\")\n",
    "print(fruits)"
   ]
  },
  {
   "cell_type": "code",
   "execution_count": 18,
   "metadata": {},
   "outputs": [
    {
     "data": {
      "text/plain": [
       "['strawberry',\n",
       " 'rasberry',\n",
       " 'blueberry',\n",
       " 'apple',\n",
       " 'mulberry',\n",
       " 'cashew',\n",
       " 'almond',\n",
       " 'walnut']"
      ]
     },
     "execution_count": 18,
     "metadata": {},
     "output_type": "execute_result"
    }
   ],
   "source": [
    "# Extend function \n",
    "fruits = ['strawberry', 'rasberry', 'blueberry', 'apple', 'mulberry']\n",
    "dry_fruits = ['cashew','almond','walnut']\n",
    "fruits.extend(dry_fruits)\n",
    "fruits"
   ]
  },
  {
   "cell_type": "code",
   "execution_count": 19,
   "metadata": {},
   "outputs": [
    {
     "data": {
      "text/plain": [
       "['almond',\n",
       " 'apple',\n",
       " 'blueberry',\n",
       " 'cashew',\n",
       " 'mulberry',\n",
       " 'rasberry',\n",
       " 'strawberry',\n",
       " 'walnut']"
      ]
     },
     "execution_count": 19,
     "metadata": {},
     "output_type": "execute_result"
    }
   ],
   "source": [
    "# Sort function \n",
    "fruits =['strawberry','rasberry','blueberry','apple','mulberry','cashew','almond','walnut']\n",
    "fruits.sort()\n",
    "fruits"
   ]
  },
  {
   "cell_type": "code",
   "execution_count": 20,
   "metadata": {},
   "outputs": [
    {
     "data": {
      "text/plain": [
       "['strawberry', 'blueberry', 'apple', 'mulberry', 'cashew', 'almond', 'walnut']"
      ]
     },
     "execution_count": 20,
     "metadata": {},
     "output_type": "execute_result"
    }
   ],
   "source": [
    "# Remove function \n",
    "fruits =['strawberry','rasberry','blueberry','apple','mulberry','cashew','almond','walnut']\n",
    "fruits.remove('rasberry')\n",
    "fruits"
   ]
  },
  {
   "cell_type": "code",
   "execution_count": 21,
   "metadata": {},
   "outputs": [
    {
     "data": {
      "text/plain": [
       "['walnut', 'strawberry', 'mulberry', 'cashew', 'blueberry', 'apple', 'almond']"
      ]
     },
     "execution_count": 21,
     "metadata": {},
     "output_type": "execute_result"
    }
   ],
   "source": [
    "# Reverse function \n",
    "ruits =['strawberry','rasberry','blueberry','apple','mulberry','cashew','almond','walnut']\n",
    "fruits.sort(reverse= True)\n",
    "fruits"
   ]
  },
  {
   "cell_type": "code",
   "execution_count": 22,
   "metadata": {},
   "outputs": [
    {
     "data": {
      "text/plain": [
       "2"
      ]
     },
     "execution_count": 22,
     "metadata": {},
     "output_type": "execute_result"
    }
   ],
   "source": [
    "# COUNT FUNCTION\n",
    "x = [1,2,3,4,56,7,8,9,1,1,1,5,5,5,56,3,9]\n",
    "x.count(56)"
   ]
  },
  {
   "cell_type": "code",
   "execution_count": 23,
   "metadata": {},
   "outputs": [
    {
     "data": {
      "text/plain": [
       "6"
      ]
     },
     "execution_count": 23,
     "metadata": {},
     "output_type": "execute_result"
    }
   ],
   "source": [
    "# Index function\n",
    "words = ['A','B','C','D','E','F','G','H','I']\n",
    "words.index('G')"
   ]
  },
  {
   "cell_type": "code",
   "execution_count": 24,
   "metadata": {},
   "outputs": [
    {
     "name": "stdout",
     "output_type": "stream",
     "text": [
      "['apple', 'banana']\n"
     ]
    }
   ],
   "source": [
    "# Copy function \n",
    "fruits = ['apple','banana']\n",
    "dup_fruits = fruits.copy()\n",
    "print(dup_fruits)"
   ]
  },
  {
   "cell_type": "code",
   "execution_count": 25,
   "metadata": {},
   "outputs": [
    {
     "data": {
      "text/plain": [
       "[]"
      ]
     },
     "execution_count": 25,
     "metadata": {},
     "output_type": "execute_result"
    }
   ],
   "source": [
    "# Clear function \n",
    "fruits = ['apple','banana']\n",
    "fruits.clear()\n",
    "fruits"
   ]
  },
  {
   "cell_type": "code",
   "execution_count": 26,
   "metadata": {},
   "outputs": [
    {
     "name": "stdout",
     "output_type": "stream",
     "text": [
      "starfruit\n",
      "banana\n"
     ]
    }
   ],
   "source": [
    "# Pop function \n",
    "# BY list.pop method -\n",
    "fruits = ['apple','banana','starfruit']\n",
    "v = fruits.pop()\n",
    "print(v)\n",
    "# BY list.pop(idx) method -\n",
    "fruits = ['apple','banana','starfruit']\n",
    "v = fruits.pop(1)\n",
    "print(v)"
   ]
  },
  {
   "cell_type": "markdown",
   "metadata": {},
   "source": [
    "Mean , Median , Min , Max , Std"
   ]
  },
  {
   "cell_type": "code",
   "execution_count": 27,
   "metadata": {},
   "outputs": [
    {
     "name": "stdout",
     "output_type": "stream",
     "text": [
      "4.2\n",
      "3.5\n",
      "1\n",
      "7\n"
     ]
    }
   ],
   "source": [
    "from statistics import median\n",
    "\n",
    "\n",
    "x= [2,4,6,7,4,3,2,1,6,7]\n",
    "# mean\n",
    "mean = sum(x)/len(x)\n",
    "print(mean)\n",
    "\n",
    "# median \n",
    "x.sort\n",
    "if len(x) % 2 ==0:\n",
    "    median = (x[len(x)//2]+ x[len(x)//2 - 1])/2\n",
    "else:\n",
    "    median = x[len(x)//2]\n",
    "    \n",
    "print(median)\n",
    "\n",
    "# min \n",
    "print(min(x))\n",
    "\n",
    "# max\n",
    "print(max(x))\n",
    "\n",
    "# std\n",
    "\n",
    "# ?"
   ]
  },
  {
   "cell_type": "code",
   "execution_count": 28,
   "metadata": {},
   "outputs": [
    {
     "data": {
      "text/plain": [
       "[4, 4, 4]"
      ]
     },
     "execution_count": 28,
     "metadata": {},
     "output_type": "execute_result"
    }
   ],
   "source": [
    "# add 2 lists together element wise and produce a new list \n",
    "x = [1,2,3]\n",
    "y = [3,2,1]\n",
    "z = []\n",
    "for i, j in zip(x,y):# two or more than iterables ko nikalna aur add krna / sath me use krna \n",
    "  z.append(i+j)\n",
    "z\n"
   ]
  },
  {
   "cell_type": "code",
   "execution_count": 29,
   "metadata": {},
   "outputs": [
    {
     "name": "stdout",
     "output_type": "stream",
     "text": [
      "[1, 2, 3, 4, 5]\n",
      "[1, 4, 9, 16, 25]\n"
     ]
    }
   ],
   "source": [
    "# create a list where every element is a sqr\n",
    "# of element from an existing list \n",
    "x = [ 1,2,3,4,5]\n",
    "y = []\n",
    "for i in x :\n",
    "    y.append(i**2)\n",
    "print(x)\n",
    "print(y)\n"
   ]
  },
  {
   "cell_type": "code",
   "execution_count": 30,
   "metadata": {},
   "outputs": [
    {
     "name": "stdout",
     "output_type": "stream",
     "text": [
      "[1, 2, 3, 4, 5]\n",
      "[1, 9, 25]\n"
     ]
    }
   ],
   "source": [
    "# create a list where every odd element is a sqr\n",
    "# of element from an existing list \n",
    "x = [ 1,2,3,4,5]\n",
    "y = []\n",
    "for i in x :\n",
    "  if i% 2 != 0:\n",
    "   y.append(i**2)\n",
    "print(x)\n",
    "print(y)"
   ]
  },
  {
   "cell_type": "code",
   "execution_count": null,
   "metadata": {},
   "outputs": [],
   "source": [
    "# create a abbrevation list from an existing list of words\n",
    "words =['Strawberry Sorbet','Rasberry Jam','Apple Juice','Cashew Milk ','Almond Milk']\n",
    "x = []\n",
    "for item in words:\n",
    "    items = item.split()\n",
    "    s = ''\n",
    "    for i in items :\n",
    "        s += i[0]\n",
    "    x.append (s)\n",
    "print(x)"
   ]
  },
  {
   "cell_type": "code",
   "execution_count": 52,
   "metadata": {},
   "outputs": [
    {
     "name": "stdout",
     "output_type": "stream",
     "text": [
      "vm 10 vn\n",
      "[10]\n",
      "[1000]\n"
     ]
    }
   ],
   "source": [
    "# take a list from user it one line of input and then \n",
    "# remove all the non numeric values from list \n",
    "# then display the cubes of numbers  from list \n",
    "x =input('enter value:')\n",
    "print(x)\n",
    "y =[]\n",
    "#for values in x.split() :\n",
    "#    if values.isnumeric():\n",
    "#    y.append(int(values))\n",
    "y = [int(values) for values in x.split() if values.isnumeric()]\n",
    "print(y)\n",
    "cubes = [i**3 for i in y]\n",
    "print(cubes)"
   ]
  },
  {
   "cell_type": "markdown",
   "metadata": {},
   "source": [
    "**LIST COMPREHENSION**\n",
    "*Is a way to create a list from existng list using one line of expression *\n",
    " - Syntax\n",
    "\n",
    "newlist = [expression for item in oldlist ]\n",
    " - With condition\n",
    " \n",
    "newlist = [expression for item in oldlist if condition]"
   ]
  }
 ],
 "metadata": {
  "kernelspec": {
   "display_name": "Python 3.9.12 ('base')",
   "language": "python",
   "name": "python3"
  },
  "language_info": {
   "codemirror_mode": {
    "name": "ipython",
    "version": 3
   },
   "file_extension": ".py",
   "mimetype": "text/x-python",
   "name": "python",
   "nbconvert_exporter": "python",
   "pygments_lexer": "ipython3",
   "version": "3.9.12"
  },
  "orig_nbformat": 4,
  "vscode": {
   "interpreter": {
    "hash": "ad09bb94b98bbd5808ef9f9ec51e05a317322e67166a9b2689cc493a4d51385b"
   }
  }
 },
 "nbformat": 4,
 "nbformat_minor": 2
}
