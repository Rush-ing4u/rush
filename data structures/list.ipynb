{
 "cells": [
  {
   "cell_type": "code",
   "execution_count": 24,
   "metadata": {},
   "outputs": [],
   "source": [
    "# Defining list in python\n",
    "# List of string\n",
    "list1= [ 'Rushil', 'Hashim','Heba', 'Harsh']\n",
    "# List of numbers \n",
    "list2= [1,2,3,4]\n",
    "# Mixed Data list\n",
    "list3= ['Rushil', 'Hashim',\"B\",False, 23.456893 ,1,2,3,4 ]\n",
    "# Nested list\n",
    "list4=[[1,2,3],[4,5],[6,7,8]]"
   ]
  },
  {
   "cell_type": "code",
   "execution_count": 25,
   "metadata": {},
   "outputs": [
    {
     "name": "stdout",
     "output_type": "stream",
     "text": [
      "list1= [1, 2, 3, 'A', 'B', 4, 5, 6, 'C', 'D']\n",
      "list1[0]= 1\n",
      "list1[4]= B\n",
      "list1=[7] 6\n"
     ]
    }
   ],
   "source": [
    "# Accessing list items in Python -\n",
    "list1= [ 1,2,3,'A','B',4,5,6,'C','D']\n",
    "# First item -\n",
    "print('list1=',list1)\n",
    "# Second item - \n",
    "print('list1[0]=',list1[0])\n",
    "# Third item - \n",
    "print('list1[4]=',list1[4])\n",
    "# Last item -\n",
    "print('list1=[7]',list1[7])"
   ]
  },
  {
   "cell_type": "code",
   "execution_count": 26,
   "metadata": {},
   "outputs": [
    {
     "name": "stdout",
     "output_type": "stream",
     "text": [
      "[40, 50, 60, 70, 80]\n",
      "[10, 20, 30, 40, 50]\n",
      "[10, 20, 30, 40, 50]\n",
      "[70, 80, 90, 100]\n",
      "[60, 70, 80, 90, 100]\n"
     ]
    }
   ],
   "source": [
    "# Getting a list sliced\n",
    "l =[10,20,30,40,50,60,70,80,90,100]\n",
    "slice1 = l[3:-2]\n",
    "print(slice1)\n",
    "slice2 = l[:5]\n",
    "print(slice2)\n",
    "slice3 = l[0:5]\n",
    "print(slice3)\n",
    "slice4 = l[-4:]\n",
    "print(slice4) \n",
    "slice5 = l[5:len(l)]\n",
    "print(slice5)"
   ]
  },
  {
   "cell_type": "markdown",
   "metadata": {},
   "source": [
    "*Function used in list*"
   ]
  },
  {
   "cell_type": "code",
   "execution_count": 27,
   "metadata": {},
   "outputs": [
    {
     "data": {
      "text/plain": [
       "['strawberry', 'rasberry', 'blueberry', 'mulberry']"
      ]
     },
     "execution_count": 27,
     "metadata": {},
     "output_type": "execute_result"
    }
   ],
   "source": [
    "# Append function\n",
    "fruits = []\n",
    "fruits.append(\"strawberry\")\n",
    "fruits.append(\"rasberry\")\n",
    "fruits.append(\"blueberry\")\n",
    "fruits.append(\"mulberry\")\n",
    "fruits\n"
   ]
  },
  {
   "cell_type": "code",
   "execution_count": 28,
   "metadata": {},
   "outputs": [
    {
     "name": "stdout",
     "output_type": "stream",
     "text": [
      "['strawberry', 'rasberry', 'blueberry', 'apple', 'mulberry']\n"
     ]
    }
   ],
   "source": [
    "# Insert function \n",
    "\n",
    "fruits = ['strawberry', 'rasberry', 'blueberry', 'mulberry']\n",
    "fruits.insert(3,\"apple\")\n",
    "print(fruits)"
   ]
  },
  {
   "cell_type": "code",
   "execution_count": 29,
   "metadata": {},
   "outputs": [
    {
     "data": {
      "text/plain": [
       "['strawberry',\n",
       " 'rasberry',\n",
       " 'blueberry',\n",
       " 'apple',\n",
       " 'mulberry',\n",
       " 'cashew',\n",
       " 'almond',\n",
       " 'walnut']"
      ]
     },
     "execution_count": 29,
     "metadata": {},
     "output_type": "execute_result"
    }
   ],
   "source": [
    "# Extend function \n",
    "fruits = ['strawberry', 'rasberry', 'blueberry', 'apple', 'mulberry']\n",
    "dry_fruits = ['cashew','almond','walnut']\n",
    "fruits.extend(dry_fruits)\n",
    "fruits"
   ]
  },
  {
   "cell_type": "code",
   "execution_count": 30,
   "metadata": {},
   "outputs": [
    {
     "data": {
      "text/plain": [
       "['almond',\n",
       " 'apple',\n",
       " 'blueberry',\n",
       " 'cashew',\n",
       " 'mulberry',\n",
       " 'rasberry',\n",
       " 'strawberry',\n",
       " 'walnut']"
      ]
     },
     "execution_count": 30,
     "metadata": {},
     "output_type": "execute_result"
    }
   ],
   "source": [
    "# Sort function \n",
    "fruits =['strawberry','rasberry','blueberry','apple','mulberry','cashew','almond','walnut']\n",
    "fruits.sort()\n",
    "fruits"
   ]
  },
  {
   "cell_type": "code",
   "execution_count": 31,
   "metadata": {},
   "outputs": [
    {
     "data": {
      "text/plain": [
       "['strawberry', 'blueberry', 'apple', 'mulberry', 'cashew', 'almond', 'walnut']"
      ]
     },
     "execution_count": 31,
     "metadata": {},
     "output_type": "execute_result"
    }
   ],
   "source": [
    "# Remove function \n",
    "fruits =['strawberry','rasberry','blueberry','apple','mulberry','cashew','almond','walnut']\n",
    "fruits.remove('rasberry')\n",
    "fruits"
   ]
  },
  {
   "cell_type": "code",
   "execution_count": 32,
   "metadata": {},
   "outputs": [
    {
     "data": {
      "text/plain": [
       "['walnut', 'strawberry', 'mulberry', 'cashew', 'blueberry', 'apple', 'almond']"
      ]
     },
     "execution_count": 32,
     "metadata": {},
     "output_type": "execute_result"
    }
   ],
   "source": [
    "# Reverse function \n",
    "ruits =['strawberry','rasberry','blueberry','apple','mulberry','cashew','almond','walnut']\n",
    "fruits.sort(reverse= True)\n",
    "fruits"
   ]
  },
  {
   "cell_type": "code",
   "execution_count": 33,
   "metadata": {},
   "outputs": [
    {
     "data": {
      "text/plain": [
       "2"
      ]
     },
     "execution_count": 33,
     "metadata": {},
     "output_type": "execute_result"
    }
   ],
   "source": [
    "# COUNT FUNCTION\n",
    "x = [1,2,3,4,56,7,8,9,1,1,1,5,5,5,56,3,9]\n",
    "x.count(56)"
   ]
  },
  {
   "cell_type": "code",
   "execution_count": 34,
   "metadata": {},
   "outputs": [
    {
     "data": {
      "text/plain": [
       "6"
      ]
     },
     "execution_count": 34,
     "metadata": {},
     "output_type": "execute_result"
    }
   ],
   "source": [
    "# Index function\n",
    "words = ['A','B','C','D','E','F','G','H','I']\n",
    "words.index('G')"
   ]
  },
  {
   "cell_type": "code",
   "execution_count": 35,
   "metadata": {},
   "outputs": [
    {
     "name": "stdout",
     "output_type": "stream",
     "text": [
      "['apple', 'banana']\n"
     ]
    }
   ],
   "source": [
    "# Copy function \n",
    "fruits = ['apple','banana']\n",
    "dup_fruits = fruits.copy()\n",
    "print(dup_fruits)"
   ]
  },
  {
   "cell_type": "code",
   "execution_count": 36,
   "metadata": {},
   "outputs": [
    {
     "data": {
      "text/plain": [
       "[]"
      ]
     },
     "execution_count": 36,
     "metadata": {},
     "output_type": "execute_result"
    }
   ],
   "source": [
    "# Clear function \n",
    "fruits = ['apple','banana']\n",
    "fruits.clear()\n",
    "fruits"
   ]
  },
  {
   "cell_type": "code",
   "execution_count": 37,
   "metadata": {},
   "outputs": [
    {
     "name": "stdout",
     "output_type": "stream",
     "text": [
      "starfruit\n",
      "banana\n"
     ]
    }
   ],
   "source": [
    "# Pop function \n",
    "# BY list.pop method -\n",
    "fruits = ['apple','banana','starfruit']\n",
    "v = fruits.pop()\n",
    "print(v)\n",
    "# BY list.pop(idx) method -\n",
    "fruits = ['apple','banana','starfruit']\n",
    "v = fruits.pop(1)\n",
    "print(v)"
   ]
  }
 ],
 "metadata": {
  "kernelspec": {
   "display_name": "Python 3.9.12 ('base')",
   "language": "python",
   "name": "python3"
  },
  "language_info": {
   "codemirror_mode": {
    "name": "ipython",
    "version": 3
   },
   "file_extension": ".py",
   "mimetype": "text/x-python",
   "name": "python",
   "nbconvert_exporter": "python",
   "pygments_lexer": "ipython3",
   "version": "3.9.12"
  },
  "orig_nbformat": 4,
  "vscode": {
   "interpreter": {
    "hash": "ad09bb94b98bbd5808ef9f9ec51e05a317322e67166a9b2689cc493a4d51385b"
   }
  }
 },
 "nbformat": 4,
 "nbformat_minor": 2
}
