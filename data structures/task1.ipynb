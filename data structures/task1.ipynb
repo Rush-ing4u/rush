{
 "cells": [
  {
   "cell_type": "markdown",
   "metadata": {},
   "source": [
    "1. Create a string and print it .\n"
   ]
  },
  {
   "cell_type": "code",
   "execution_count": 18,
   "metadata": {},
   "outputs": [
    {
     "name": "stdout",
     "output_type": "stream",
     "text": [
      "KONICHIWA\n"
     ]
    }
   ],
   "source": [
    "string = 'KONICHIWA'\n",
    "print(string)"
   ]
  },
  {
   "cell_type": "markdown",
   "metadata": {},
   "source": [
    " 2.Take a string input and print it's length . "
   ]
  },
  {
   "cell_type": "code",
   "execution_count": null,
   "metadata": {},
   "outputs": [
    {
     "data": {
      "text/plain": [
       "9"
      ]
     },
     "execution_count": 3,
     "metadata": {},
     "output_type": "execute_result"
    }
   ],
   "source": [
    "len(string)"
   ]
  },
  {
   "cell_type": "markdown",
   "metadata": {},
   "source": [
    "3. Print the last word of the string ' Python is great ' using slices."
   ]
  },
  {
   "cell_type": "code",
   "execution_count": null,
   "metadata": {},
   "outputs": [
    {
     "name": "stdout",
     "output_type": "stream",
     "text": [
      " great\n"
     ]
    }
   ],
   "source": [
    "s = 'Python is great'\n",
    "slice = s[9:]\n",
    "print(slice)"
   ]
  },
  {
   "cell_type": "markdown",
   "metadata": {},
   "source": [
    "4. Print the each word in different line os string 'Python is everywhere'"
   ]
  },
  {
   "cell_type": "code",
   "execution_count": null,
   "metadata": {},
   "outputs": [
    {
     "name": "stdout",
     "output_type": "stream",
     "text": [
      "P\n",
      "y\n",
      "t\n",
      "h\n",
      "o\n",
      "n\n",
      " \n",
      "i\n",
      "s\n",
      " \n",
      "e\n",
      "v\n",
      "e\n",
      "r\n",
      "y\n",
      "w\n",
      "h\n",
      "e\n",
      "r\n",
      "e\n"
     ]
    }
   ],
   "source": [
    "s = 'Python is everywhere'\n",
    "print(s[0])\n",
    "print(s[1])\n",
    "print(s[2])\n",
    "print(s[3])\n",
    "print(s[4])\n",
    "print(s[5])\n",
    "print(s[6])\n",
    "print(s[7])\n",
    "print(s[8])\n",
    "print(s[9])\n",
    "print(s[10])\n",
    "print(s[11])\n",
    "print(s[12])\n",
    "print(s[13])\n",
    "print(s[14])\n",
    "print(s[15])\n",
    "print(s[16])\n",
    "print(s[17])\n",
    "print(s[18])\n",
    "print(s[19])"
   ]
  },
  {
   "cell_type": "markdown",
   "metadata": {},
   "source": [
    "5. Print the string 'Hello World!' in reverse"
   ]
  },
  {
   "cell_type": "code",
   "execution_count": null,
   "metadata": {},
   "outputs": [
    {
     "name": "stdout",
     "output_type": "stream",
     "text": [
      " !dlroW olleH\n"
     ]
    }
   ],
   "source": [
    "s = 'Hello World! '\n",
    "slice1=s[::-1]\n",
    "print(slice1)\n",
    "\n"
   ]
  },
  {
   "cell_type": "markdown",
   "metadata": {},
   "source": [
    " 6. Convert the string 'how are you?' in uppercase."
   ]
  },
  {
   "cell_type": "code",
   "execution_count": null,
   "metadata": {},
   "outputs": [
    {
     "name": "stdout",
     "output_type": "stream",
     "text": [
      "HOW ARE YOU ?\n"
     ]
    }
   ],
   "source": [
    "s = 'how are you ?'\n",
    "print(s.upper())"
   ]
  },
  {
   "cell_type": "markdown",
   "metadata": {},
   "source": [
    " 7. Convert the string 'How Is It Going?' in lowercase."
   ]
  },
  {
   "cell_type": "code",
   "execution_count": null,
   "metadata": {},
   "outputs": [
    {
     "name": "stdout",
     "output_type": "stream",
     "text": [
      "how is it going?\n"
     ]
    }
   ],
   "source": [
    "s = 'How Is It Going?'\n",
    "print(s.lower())"
   ]
  },
  {
   "cell_type": "markdown",
   "metadata": {},
   "source": [
    " 8. Join the following list by ( ) spaces and print the result:\n",
    "  \n",
    "  words = ['Python', 'is', 'easy','to', 'learn']"
   ]
  },
  {
   "cell_type": "code",
   "execution_count": null,
   "metadata": {},
   "outputs": [
    {
     "name": "stdout",
     "output_type": "stream",
     "text": [
      "['Python is easy to learn']\n"
     ]
    }
   ],
   "source": [
    "words = ['Python'+' '+ 'is'+' '+ 'easy'+' '+'to'+' '+'learn']\n",
    "print(words)"
   ]
  },
  {
   "cell_type": "markdown",
   "metadata": {},
   "source": [
    " 9. Print a multiline string using a single 'print'."
   ]
  },
  {
   "cell_type": "code",
   "execution_count": null,
   "metadata": {},
   "outputs": [
    {
     "name": "stdout",
     "output_type": "stream",
     "text": [
      " Ohayo ! kosimasuuu sensei , this multiline string will get printed by single print \n",
      "by help of triple quotes .You see it works with single quotes as well as double quotes too\n"
     ]
    }
   ],
   "source": [
    "str = \"\"\" Ohayo ! kosimasuuu sensei , this multiline string will get printed by single print \n",
    "by help of triple quotes .You see it works with single quotes as well as double quotes too\"\"\"\n",
    "print(str)"
   ]
  },
  {
   "cell_type": "markdown",
   "metadata": {},
   "source": [
    " 10. Print the string ' to move newline \\n is used '.(result should look exactly like the given string)"
   ]
  },
  {
   "cell_type": "code",
   "execution_count": null,
   "metadata": {},
   "outputs": [
    {
     "name": "stdout",
     "output_type": "stream",
     "text": [
      " \n",
      "Ohayo ! kosimasuuu sensei , \n",
      "this long message string will get printed without(\n",
      ") \n",
      "and with (\n",
      ")[just for the sake of self-assurance].\n",
      "\n"
     ]
    },
    {
     "data": {
      "text/plain": [
       "' \\nOhayo ! kosimasuuu sensei , \\nthis long message string will get printed without(\\n) \\nand with (\\n)[just for the sake of self-assurance].\\n'"
      ]
     },
     "execution_count": 9,
     "metadata": {},
     "output_type": "execute_result"
    }
   ],
   "source": [
    "str = ''' \n",
    "Ohayo ! kosimasuuu sensei , \n",
    "this long message string will get printed without(\\n) \n",
    "and with (\\n)[just for the sake of self-assurance].\n",
    "'''\n",
    "print(str)\n",
    "str"
   ]
  },
  {
   "cell_type": "markdown",
   "metadata": {},
   "source": [
    " 11. Print a variable with some text using a single print function , output should looks like following :\n",
    " the variable is 15 "
   ]
  },
  {
   "cell_type": "code",
   "execution_count": null,
   "metadata": {},
   "outputs": [
    {
     "name": "stdout",
     "output_type": "stream",
     "text": [
      "the variable is 15\n"
     ]
    }
   ],
   "source": [
    "a = 15\n",
    "print('the variable is', a)"
   ]
  },
  {
   "cell_type": "markdown",
   "metadata": {},
   "source": [
    " 12. Concatenate the following string and print the result :\n",
    " s1 = 'Python'\n",
    " s2 = 'is'\n",
    " s3 = 'great'"
   ]
  },
  {
   "cell_type": "code",
   "execution_count": null,
   "metadata": {},
   "outputs": [
    {
     "name": "stdout",
     "output_type": "stream",
     "text": [
      "Python is great\n"
     ]
    }
   ],
   "source": [
    "s1 = 'Python'\n",
    "s2 = 'is'\n",
    "s3 = 'great'\n",
    "str = s1 +' '+ s2 +' '+ s3 \n",
    "print(str)"
   ]
  },
  {
   "cell_type": "markdown",
   "metadata": {},
   "source": [
    " 13. Print # 20 times without using loop."
   ]
  },
  {
   "cell_type": "code",
   "execution_count": null,
   "metadata": {},
   "outputs": [
    {
     "name": "stdout",
     "output_type": "stream",
     "text": [
      "####################\n"
     ]
    }
   ],
   "source": [
    "h = '#'\n",
    "print( h * 20)"
   ]
  },
  {
   "cell_type": "markdown",
   "metadata": {},
   "source": [
    " 14. Print no. 1 to 9, each on a separate line , followed by a dot , outputshould look like :\n",
    "   1.\n",
    "   2.\n",
    "   3."
   ]
  },
  {
   "cell_type": "code",
   "execution_count": 17,
   "metadata": {},
   "outputs": [
    {
     "name": "stdout",
     "output_type": "stream",
     "text": [
      "1.\n",
      "2.\n",
      "3.\n",
      "4.\n",
      "5.\n",
      "6.\n",
      "7.\n",
      "8.\n",
      "9.\n"
     ]
    }
   ],
   "source": [
    "for i in range (1,10):\n",
    "    print(f\"{i}.\")"
   ]
  },
  {
   "cell_type": "markdown",
   "metadata": {},
   "source": [
    " 15. Ask user to input a sentence and print each word in different line\n",
    " "
   ]
  },
  {
   "cell_type": "code",
   "execution_count": null,
   "metadata": {},
   "outputs": [],
   "source": [
    "print( 'airplane \\n and \\naeroplane \\nare \\n same')"
   ]
  },
  {
   "cell_type": "markdown",
   "metadata": {},
   "source": [
    " 16. Ask user to input a string and check if the string ends with \"?\" "
   ]
  },
  {
   "cell_type": "code",
   "execution_count": 3,
   "metadata": {},
   "outputs": [
    {
     "name": "stdout",
     "output_type": "stream",
     "text": [
      "hfhhh ? sshgdgdg ?\n"
     ]
    }
   ],
   "source": [
    "val = input('Enter your sentence ?')\n",
    "print(val.lstrip('?'))"
   ]
  },
  {
   "cell_type": "markdown",
   "metadata": {},
   "source": [
    " 17. Ask user to input a string and print how many times \"e\" appears in the string ."
   ]
  },
  {
   "cell_type": "code",
   "execution_count": 4,
   "metadata": {},
   "outputs": [
    {
     "name": "stdout",
     "output_type": "stream",
     "text": [
      "9\n"
     ]
    }
   ],
   "source": [
    "val = input('Enter message:')\n",
    "print(val.count('e'))"
   ]
  },
  {
   "cell_type": "markdown",
   "metadata": {},
   "source": [
    " 18. Check if the user input is a number"
   ]
  },
  {
   "cell_type": "code",
   "execution_count": 8,
   "metadata": {},
   "outputs": [
    {
     "name": "stdout",
     "output_type": "stream",
     "text": [
      "346425\n",
      "numeric: True\n"
     ]
    }
   ],
   "source": [
    "val = input('Enter value:')\n",
    "print(val)\n",
    "print(\"numeric:\", val.isnumeric())"
   ]
  },
  {
   "cell_type": "markdown",
   "metadata": {},
   "source": [
    " 19. Remove the extra space in the beginning and the end of the given string :\n",
    "    \n",
    "     \n",
    "      text = '     this is not a good string    '"
   ]
  },
  {
   "cell_type": "code",
   "execution_count": 9,
   "metadata": {},
   "outputs": [
    {
     "data": {
      "text/plain": [
       "'this is not a good string'"
      ]
     },
     "execution_count": 9,
     "metadata": {},
     "output_type": "execute_result"
    }
   ],
   "source": [
    "text = '     this is not a good string    '\n",
    "text.strip(' ')"
   ]
  },
  {
   "cell_type": "markdown",
   "metadata": {},
   "source": [
    "  20. Ask the user to input a string , print 'found' if any of character is in uppercase.\n",
    "  "
   ]
  },
  {
   "cell_type": "code",
   "execution_count": 13,
   "metadata": {},
   "outputs": [
    {
     "name": "stdout",
     "output_type": "stream",
     "text": [
      "KKKKK\n",
      "found True\n"
     ]
    }
   ],
   "source": [
    "val = input('enter value')\n",
    "print(val)\n",
    "print(\"found\", val.isupper())"
   ]
  },
  {
   "cell_type": "markdown",
   "metadata": {},
   "source": [
    " 21. Extract names from following string and store them in a list .\n",
    "\n",
    " names = 'Joe, David, Mark, Tom, Chris, Robert'"
   ]
  },
  {
   "cell_type": "code",
   "execution_count": 3,
   "metadata": {},
   "outputs": [
    {
     "name": "stdout",
     "output_type": "stream",
     "text": [
      "['Joe, David, Mark, Tom, Chris, Robert']\n"
     ]
    }
   ],
   "source": [
    "names = 'Joe, David, Mark, Tom, Chris, Robert'\n",
    "list = []\n",
    "list.append(names)\n",
    "print(list)"
   ]
  },
  {
   "cell_type": "markdown",
   "metadata": {},
   "source": [
    " 22. In following string , add 'aye' in the end of every word and print the result.\n",
    "\n",
    "     text= 'this is some text' "
   ]
  },
  {
   "cell_type": "code",
   "execution_count": 9,
   "metadata": {},
   "outputs": [
    {
     "name": "stdout",
     "output_type": "stream",
     "text": [
      "['this is some text', 'aye']\n"
     ]
    }
   ],
   "source": [
    "###\n",
    "text =['this is some text']\n",
    "text.insert(1,\"aye\")\n",
    "print(text)"
   ]
  },
  {
   "cell_type": "markdown",
   "metadata": {},
   "source": [
    " 23. Ask user to enter a string and check if the string contains 'fyi'."
   ]
  },
  {
   "cell_type": "code",
   "execution_count": 7,
   "metadata": {},
   "outputs": [
    {
     "name": "stdout",
     "output_type": "stream",
     "text": [
      "['fyi']\n",
      "True\n"
     ]
    }
   ],
   "source": [
    "str = [input('enter value:')]\n",
    "x = 'fyi' in str\n",
    "print(str)\n",
    "print(x)\n",
    "    "
   ]
  },
  {
   "cell_type": "markdown",
   "metadata": {},
   "source": [
    " 24. Remove all the special characters and numbers from the following strings \n",
    "\n",
    "    text = '%p34@y!*-*!t68h#&on404'"
   ]
  },
  {
   "cell_type": "code",
   "execution_count": 11,
   "metadata": {},
   "outputs": [
    {
     "data": {
      "text/plain": [
       "[]"
      ]
     },
     "execution_count": 11,
     "metadata": {},
     "output_type": "execute_result"
    }
   ],
   "source": [
    "text = ['%p34@y!*-*!t68h#&on404' ] \n",
    "text.remove('%p34@y!*-*!t68h#&on404')\n",
    "text "
   ]
  },
  {
   "cell_type": "code",
   "execution_count": 1,
   "metadata": {},
   "outputs": [
    {
     "data": {
      "text/plain": [
       "[]"
      ]
     },
     "execution_count": 1,
     "metadata": {},
     "output_type": "execute_result"
    }
   ],
   "source": [
    "text = ['%p34@y!*-*!t68h#&on404' ] \n",
    "text.clear()\n",
    "text "
   ]
  },
  {
   "cell_type": "markdown",
   "metadata": {},
   "source": [
    " 25. Calculate the average word length of the following paragraph .\n",
    "   ' this is a paragraph which is written just for the purpose of providing content to let the average word length be calculated ' "
   ]
  },
  {
   "cell_type": "code",
   "execution_count": 9,
   "metadata": {},
   "outputs": [
    {
     "name": "stdout",
     "output_type": "stream",
     "text": [
      "125\n"
     ]
    }
   ],
   "source": [
    "msg = '''\n",
    "this is a paragraph which is written just for the purpose of providing content to let the average word length be calculated\n",
    "''' \n",
    "print(len(msg))"
   ]
  }
 ],
 "metadata": {
  "kernelspec": {
   "display_name": "Python 3.9.12 ('base')",
   "language": "python",
   "name": "python3"
  },
  "language_info": {
   "codemirror_mode": {
    "name": "ipython",
    "version": 3
   },
   "file_extension": ".py",
   "mimetype": "text/x-python",
   "name": "python",
   "nbconvert_exporter": "python",
   "pygments_lexer": "ipython3",
   "version": "3.9.12"
  },
  "orig_nbformat": 4,
  "vscode": {
   "interpreter": {
    "hash": "ad09bb94b98bbd5808ef9f9ec51e05a317322e67166a9b2689cc493a4d51385b"
   }
  }
 },
 "nbformat": 4,
 "nbformat_minor": 2
}
