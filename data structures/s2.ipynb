{
 "cells": [
  {
   "cell_type": "code",
   "execution_count": 42,
   "metadata": {},
   "outputs": [
    {
     "name": "stdout",
     "output_type": "stream",
     "text": [
      "Hello\n",
      "Hello\n",
      "Hello\n"
     ]
    }
   ],
   "source": [
    "# Defining string in python .\n",
    "# All of the following are equivalent .\n",
    "my_string = 'Hello'\n",
    "print(my_string)\n",
    "\n",
    "my_string = \"Hello\"\n",
    "print(my_string)\n",
    "\n",
    "my_string = '''Hello'''\n",
    "print(my_string)\n"
   ]
  },
  {
   "cell_type": "code",
   "execution_count": 43,
   "metadata": {},
   "outputs": [
    {
     "name": "stdout",
     "output_type": "stream",
     "text": [
      "Hello ,welcome to the world of python\n"
     ]
    }
   ],
   "source": [
    "# Triple quotes string can extend multiple lines .\n",
    "my_string = \"\"\"Hello ,welcome to the world of python\"\"\"\n",
    "print(my_string)"
   ]
  },
  {
   "cell_type": "code",
   "execution_count": 44,
   "metadata": {},
   "outputs": [
    {
     "name": "stdout",
     "output_type": "stream",
     "text": [
      "str[0]= d\n",
      "str[1]= i\n",
      "str[-1]= m\n",
      "str[-2]= u\n"
     ]
    }
   ],
   "source": [
    "# string\n",
    "\n",
    "str = 'digipodium'\n",
    "print('str[0]=',str[0])\n",
    "print('str[1]=',str[1])\n",
    "print('str[-1]=',str[-1])\n",
    "print('str[-2]=',str[-2])"
   ]
  },
  {
   "cell_type": "code",
   "execution_count": 45,
   "metadata": {},
   "outputs": [
    {
     "name": "stdout",
     "output_type": "stream",
     "text": [
      "digi\n",
      "podium\n",
      "podium\n"
     ]
    }
   ],
   "source": [
    "# Getting a slice\n",
    "\n",
    "s = 'digipodium'\n",
    "slice1 = s[0:4]\n",
    "print(slice1) \n",
    "slice2 = s[4:len(s)]\n",
    "slice3 = s[4:]\n",
    "print(slice2)\n",
    "print(slice3)"
   ]
  },
  {
   "cell_type": "code",
   "execution_count": 46,
   "metadata": {},
   "outputs": [
    {
     "name": "stdout",
     "output_type": "stream",
     "text": [
      "A\n",
      "ऽ\n",
      "き\n"
     ]
    }
   ],
   "source": [
    "# Building function for strings\n",
    "x = chr(65) #integer to string \n",
    "print(x)\n",
    "x = chr(2365) \n",
    "print(x)\n",
    "x = chr(12365)\n",
    "print(x)\n"
   ]
  },
  {
   "cell_type": "code",
   "execution_count": 47,
   "metadata": {},
   "outputs": [
    {
     "name": "stdout",
     "output_type": "stream",
     "text": [
      "thisisAmazing\n"
     ]
    }
   ],
   "source": [
    "#concatenation\n",
    "w1='this'\n",
    "w2= 'is'\n",
    "w3='Amazing'\n",
    "msg= w1+w2+w3\n",
    "print(msg)\n",
    "\n"
   ]
  },
  {
   "cell_type": "code",
   "execution_count": 48,
   "metadata": {},
   "outputs": [
    {
     "name": "stdout",
     "output_type": "stream",
     "text": [
      "this is Amazing\n"
     ]
    }
   ],
   "source": [
    "#adding space between strings\n",
    "msg= w1+' '+w2+' '+w3\n",
    "print(msg)\n"
   ]
  },
  {
   "cell_type": "code",
   "execution_count": 49,
   "metadata": {},
   "outputs": [
    {
     "name": "stdout",
     "output_type": "stream",
     "text": [
      "hihihi\n"
     ]
    }
   ],
   "source": [
    "#duplication\n",
    "word='hi'\n",
    "print(word*3)"
   ]
  },
  {
   "cell_type": "code",
   "execution_count": 50,
   "metadata": {},
   "outputs": [
    {
     "name": "stdout",
     "output_type": "stream",
     "text": [
      " ❤ \n",
      " ❤  ❤ \n",
      " ❤  ❤  ❤ \n",
      " ❤  ❤  ❤  ❤ \n",
      " ❤  ❤  ❤  ❤  ❤ \n"
     ]
    }
   ],
   "source": [
    "#pattern printing\n",
    "for i in range(1,6):\n",
    "    print(i*' ❤ ')\n"
   ]
  },
  {
   "cell_type": "code",
   "execution_count": 51,
   "metadata": {},
   "outputs": [
    {
     "name": "stdout",
     "output_type": "stream",
     "text": [
      " ❤  ❤  ❤  ❤  ❤  ❤ \n",
      " ❤  ❤  ❤  ❤  ❤ \n",
      " ❤  ❤  ❤  ❤ \n",
      " ❤  ❤  ❤ \n",
      " ❤  ❤ \n",
      " ❤ \n"
     ]
    }
   ],
   "source": [
    "for i in range(6,0,-1):\n",
    "    print(i*' ❤ ')"
   ]
  },
  {
   "cell_type": "code",
   "execution_count": 52,
   "metadata": {},
   "outputs": [],
   "source": [
    "name = \"Sherlock Holmes\" \n",
    "age = 221\n",
    "iteams =['miss hudson','john h. watson'] "
   ]
  },
  {
   "cell_type": "markdown",
   "metadata": {},
   "source": [
    "###formatting function = manipulation of data "
   ]
  },
  {
   "cell_type": "code",
   "execution_count": 53,
   "metadata": {},
   "outputs": [],
   "source": [
    "msg= 'this is a message from WILLIAM JAMES MORIARTY'"
   ]
  },
  {
   "cell_type": "code",
   "execution_count": 54,
   "metadata": {},
   "outputs": [
    {
     "name": "stdout",
     "output_type": "stream",
     "text": [
      "THIS IS A MESSAGE FROM WILLIAM JAMES MORIARTY\n",
      "this is a message from william james moriarty\n",
      "This Is A Message From William James Moriarty\n",
      "This is a message from william james moriarty\n",
      "this is a message from william james moriarty\n",
      "THIS IS A MESSAGE FROM william james moriarty\n",
      "this is a message from WILLIAM JAMES MORIARTY\n"
     ]
    }
   ],
   "source": [
    "print(msg.upper())\n",
    "print(msg.lower())\n",
    "print(msg.title())\n",
    "print(msg.capitalize())\n",
    "print(msg.casefold())# similar to lower\n",
    "print(msg.swapcase())\n",
    "print(msg)"
   ]
  },
  {
   "cell_type": "code",
   "execution_count": 55,
   "metadata": {},
   "outputs": [
    {
     "name": "stdout",
     "output_type": "stream",
     "text": [
      "          ❤  ❤  ❤  ❤  ❤  ❤  ❤   \n",
      "           ❤  ❤  ❤  ❤  ❤  ❤   \n",
      "            ❤  ❤  ❤  ❤  ❤   \n",
      "             ❤  ❤  ❤  ❤   \n",
      "              ❤  ❤  ❤   \n",
      "               ❤  ❤   \n",
      "                ❤   \n"
     ]
    }
   ],
   "source": [
    "rows=6\n",
    "k=2* rows -2\n",
    "for i in range(rows,-1,-1):\n",
    "  for j in range(k,0,-1):\n",
    "    print(end=\" \")\n",
    "  k=k+1\n",
    "  for j in range(0,i+1):\n",
    "   print(\"❤\", end=\"  \")\n",
    "  print(\" \")\n",
    "\n"
   ]
  },
  {
   "cell_type": "code",
   "execution_count": 56,
   "metadata": {},
   "outputs": [
    {
     "data": {
      "text/plain": [
       "45"
      ]
     },
     "execution_count": 56,
     "metadata": {},
     "output_type": "execute_result"
    }
   ],
   "source": [
    "len(msg)"
   ]
  },
  {
   "cell_type": "code",
   "execution_count": 57,
   "metadata": {},
   "outputs": [
    {
     "name": "stdout",
     "output_type": "stream",
     "text": [
      "this is a message from WILLIAM JAMES MORIARTY\n"
     ]
    }
   ],
   "source": [
    "print(msg)"
   ]
  },
  {
   "cell_type": "code",
   "execution_count": 58,
   "metadata": {},
   "outputs": [
    {
     "name": "stdout",
     "output_type": "stream",
     "text": [
      "this is a message from WILLIAM JAMES MORIARTY                                   \n"
     ]
    }
   ],
   "source": [
    "print(msg.ljust(80))"
   ]
  },
  {
   "cell_type": "code",
   "execution_count": 59,
   "metadata": {},
   "outputs": [
    {
     "name": "stdout",
     "output_type": "stream",
     "text": [
      "                                   this is a message from WILLIAM JAMES MORIARTY\n"
     ]
    }
   ],
   "source": [
    "print(msg.rjust(80))"
   ]
  },
  {
   "cell_type": "code",
   "execution_count": 60,
   "metadata": {},
   "outputs": [
    {
     "name": "stdout",
     "output_type": "stream",
     "text": [
      "                 this is a message from WILLIAM JAMES MORIARTY                  \n"
     ]
    }
   ],
   "source": [
    "print(msg.center(80))"
   ]
  },
  {
   "cell_type": "code",
   "execution_count": 61,
   "metadata": {},
   "outputs": [],
   "source": [
    "long_msg ='''\n",
    "Visual studio code is a lightweight\n",
    "but powerful source code editor which \n",
    "runs on your desktop and is available \n",
    "for windows , mac os , linux. \n",
    "blah .. blah ... blah\n",
    "'''"
   ]
  },
  {
   "cell_type": "code",
   "execution_count": 62,
   "metadata": {},
   "outputs": [
    {
     "name": "stdout",
     "output_type": "stream",
     "text": [
      "                                                                                                                                  \n",
      "                                               Visual studio code is a lightweight                                                \n",
      "                                              but powerful source code editor which                                               \n",
      "                                              runs on your desktop and is available                                               \n",
      "                                                  for windows , mac os , linux.                                                   \n",
      "                                                      blah .. blah ... blah                                                       \n",
      "                                                                                                                                  \n"
     ]
    }
   ],
   "source": [
    "for line in long_msg.split('\\n'):\n",
    "    print(line.center(130))"
   ]
  },
  {
   "cell_type": "code",
   "execution_count": 63,
   "metadata": {},
   "outputs": [
    {
     "data": {
      "text/plain": [
       "['this', 'is', 'a', 'message', 'from', 'WILLIAM', 'JAMES', 'MORIARTY']"
      ]
     },
     "execution_count": 63,
     "metadata": {},
     "output_type": "execute_result"
    }
   ],
   "source": [
    "msg.split()"
   ]
  },
  {
   "cell_type": "code",
   "execution_count": 64,
   "metadata": {},
   "outputs": [
    {
     "data": {
      "text/plain": [
       "['',\n",
       " 'Visual studio code is a lightweight',\n",
       " 'but powerful source code editor which ',\n",
       " 'runs on your desktop and is available ',\n",
       " 'for windows , mac os , linux. ',\n",
       " 'blah .. blah ... blah',\n",
       " '']"
      ]
     },
     "execution_count": 64,
     "metadata": {},
     "output_type": "execute_result"
    }
   ],
   "source": [
    "long_msg.split('\\n')"
   ]
  },
  {
   "cell_type": "code",
   "execution_count": 65,
   "metadata": {},
   "outputs": [
    {
     "data": {
      "text/plain": [
       "['this', 'is', 'a', 'message from WILLIAM JAMES MORIARTY']"
      ]
     },
     "execution_count": 65,
     "metadata": {},
     "output_type": "execute_result"
    }
   ],
   "source": [
    "msg.split(maxsplit=3)"
   ]
  },
  {
   "cell_type": "code",
   "execution_count": 66,
   "metadata": {},
   "outputs": [
    {
     "data": {
      "text/plain": [
       "['this is a message from', 'WILLIAM', 'JAMES', 'MORIARTY']"
      ]
     },
     "execution_count": 66,
     "metadata": {},
     "output_type": "execute_result"
    }
   ],
   "source": [
    "msg.rsplit(maxsplit=3) # reverse split"
   ]
  },
  {
   "cell_type": "code",
   "execution_count": 67,
   "metadata": {},
   "outputs": [
    {
     "data": {
      "text/plain": [
       "'\\nVisual studio code is a lightweight\\nbut powerful source code editor which \\nruns on your desktop and is available \\nfor windows , mac os , linux. \\nblah .. blah ... blah\\n'"
      ]
     },
     "execution_count": 67,
     "metadata": {},
     "output_type": "execute_result"
    }
   ],
   "source": [
    "long_msg"
   ]
  },
  {
   "cell_type": "code",
   "execution_count": 68,
   "metadata": {},
   "outputs": [
    {
     "name": "stdout",
     "output_type": "stream",
     "text": [
      "6 rushil\n",
      "6 rushil\n"
     ]
    }
   ],
   "source": [
    "name = input(\"what is your name?\")\n",
    "print(len(name),name)\n",
    "name= name.strip()\n",
    "print(len(name),name)"
   ]
  },
  {
   "cell_type": "code",
   "execution_count": 69,
   "metadata": {},
   "outputs": [
    {
     "name": "stdout",
     "output_type": "stream",
     "text": [
      "168\n",
      "166\n"
     ]
    }
   ],
   "source": [
    "print(len(long_msg))\n",
    "long_msg = long_msg.strip()\n",
    "print(len(long_msg))"
   ]
  },
  {
   "cell_type": "code",
   "execution_count": 70,
   "metadata": {},
   "outputs": [
    {
     "data": {
      "text/plain": [
       "'SHERLOCK'"
      ]
     },
     "execution_count": 70,
     "metadata": {},
     "output_type": "execute_result"
    }
   ],
   "source": [
    "data = \"0000000000000SHERLOCK0000\"\n",
    "data.strip('0')"
   ]
  },
  {
   "cell_type": "code",
   "execution_count": 71,
   "metadata": {},
   "outputs": [
    {
     "data": {
      "text/plain": [
       "' this .... is .... not ..... me '"
      ]
     },
     "execution_count": 71,
     "metadata": {},
     "output_type": "execute_result"
    }
   ],
   "source": [
    "data = \"..... this .... is .... not ..... me ....\"\n",
    "data.strip('.')"
   ]
  },
  {
   "cell_type": "code",
   "execution_count": 72,
   "metadata": {},
   "outputs": [
    {
     "name": "stdout",
     "output_type": "stream",
     "text": [
      " this .... is .... not ..... me \n",
      " this .... is .... not ..... me ....\n",
      "..... this .... is .... not ..... me \n"
     ]
    }
   ],
   "source": [
    "print(data.strip('.'))\n",
    "print(data.lstrip('.'))\n",
    "print(data.rstrip('.'))"
   ]
  },
  {
   "cell_type": "code",
   "execution_count": 73,
   "metadata": {},
   "outputs": [
    {
     "name": "stdout",
     "output_type": "stream",
     "text": [
      "Visual studio code is a lightweight\n",
      "but powerful source code editor which \n",
      "runs on your desktop and is available \n",
      "for windows , mac os , linux. \n",
      "blah .. blah ... blah\n",
      "update-------------->\n",
      "Vosual studoo code os a loghtweoght\n",
      "but powerful source code edotor whoch \n",
      "runs on your desktop and os avaolable \n",
      "for wondows , mac os , lonux. \n",
      "blah .. blah ... blah\n"
     ]
    }
   ],
   "source": [
    "print(long_msg)\n",
    "print('update-------------->')\n",
    "print(long_msg.replace('i','o'))"
   ]
  },
  {
   "cell_type": "code",
   "execution_count": 74,
   "metadata": {},
   "outputs": [
    {
     "data": {
      "text/plain": [
       "' this  is  not  me '"
      ]
     },
     "execution_count": 74,
     "metadata": {},
     "output_type": "execute_result"
    }
   ],
   "source": [
    "data.replace('.','')\n"
   ]
  },
  {
   "cell_type": "code",
   "execution_count": 75,
   "metadata": {},
   "outputs": [
    {
     "name": "stdout",
     "output_type": "stream",
     "text": [
      "11\n"
     ]
    }
   ],
   "source": [
    "print(long_msg.count('i'))"
   ]
  },
  {
   "cell_type": "code",
   "execution_count": 76,
   "metadata": {},
   "outputs": [
    {
     "name": "stdout",
     "output_type": "stream",
     "text": [
      "1\n",
      "19\n",
      "100\n"
     ]
    }
   ],
   "source": [
    "q = 'is'\n",
    "start = 0\n",
    "while True:\n",
    "    pos = long_msg.find(q, start)\n",
    "    start = pos + 1\n",
    "    if pos == -1:\n",
    "        break\n",
    "    print(pos)"
   ]
  },
  {
   "cell_type": "code",
   "execution_count": 77,
   "metadata": {},
   "outputs": [
    {
     "name": "stdout",
     "output_type": "stream",
     "text": [
      "vowel a : 4\n",
      "vowel a : 22\n",
      "vowel a : 96\n",
      "vowel a : 103\n",
      "vowel a : 105\n",
      "vowel a : 108\n",
      "vowel a : 129\n",
      "vowel a : 147\n",
      "vowel a : 155\n",
      "vowel a : 164\n",
      "vowel e : 17\n",
      "vowel e : 30\n",
      "vowel e : 43\n",
      "vowel e : 54\n",
      "vowel e : 59\n",
      "vowel e : 61\n",
      "vowel e : 89\n",
      "vowel e : 111\n",
      "vowel i : 1\n",
      "vowel i : 11\n",
      "vowel i : 19\n",
      "vowel i : 25\n",
      "vowel i : 31\n",
      "vowel i : 63\n",
      "vowel i : 70\n",
      "vowel i : 100\n",
      "vowel i : 106\n",
      "vowel i : 119\n",
      "vowel i : 138\n",
      "vowel o : 12\n",
      "vowel o : 15\n",
      "vowel o : 41\n",
      "vowel o : 50\n",
      "vowel o : 57\n",
      "vowel o : 65\n",
      "vowel o : 80\n",
      "vowel o : 84\n",
      "vowel o : 93\n",
      "vowel o : 115\n",
      "vowel o : 122\n",
      "vowel o : 132\n",
      "vowel u : 3\n",
      "vowel u : 9\n",
      "vowel u : 37\n",
      "vowel u : 46\n",
      "vowel u : 51\n",
      "vowel u : 76\n",
      "vowel u : 85\n",
      "vowel u : 140\n"
     ]
    }
   ],
   "source": [
    "for vowel in \"aeiou\":\n",
    "    start = 0\n",
    "    while True:\n",
    "        pos = long_msg.find(vowel, start)\n",
    "        start = pos + 1\n",
    "        if pos == -1:\n",
    "            break\n",
    "        print(f\"vowel {vowel} : {pos}\")"
   ]
  },
  {
   "cell_type": "code",
   "execution_count": 78,
   "metadata": {},
   "outputs": [
    {
     "name": "stdout",
     "output_type": "stream",
     "text": [
      "rusjIil\n",
      "numeric: False\n",
      "alphabets: True\n",
      "alphanumeric: True\n",
      "only spaces: False\n",
      "only uppercase: False\n",
      "only lowercase False\n",
      "capitalized: False\n",
      "Decimal numbers: False\n"
     ]
    }
   ],
   "source": [
    "msg = input(\"enter anything\")\n",
    "print(msg)\n",
    "print(\"numeric:\", msg.isnumeric())\n",
    "print(\"alphabets:\", msg.isalpha())\n",
    "print(\"alphanumeric:\", msg.isalnum())\n",
    "print(\"only spaces:\", msg.isspace())\n",
    "print(\"only uppercase:\", msg.isupper())\n",
    "print(\"only lowercase\", msg.islower())\n",
    "print(\"capitalized:\", msg.istitle())\n",
    "print(\"Decimal numbers:\",msg.isdecimal())"
   ]
  },
  {
   "cell_type": "code",
   "execution_count": 79,
   "metadata": {},
   "outputs": [
    {
     "name": "stdout",
     "output_type": "stream",
     "text": [
      "a : 10\n",
      "e : 8\n",
      "i : 11\n",
      "o : 12\n",
      "u : 8\n"
     ]
    }
   ],
   "source": [
    "vowels = \"aeiou\"\n",
    "for v in vowels:\n",
    "    c = long_msg.count(v)\n",
    "    print(f'{v} : {c}')"
   ]
  },
  {
   "cell_type": "code",
   "execution_count": 80,
   "metadata": {},
   "outputs": [
    {
     "name": "stdout",
     "output_type": "stream",
     "text": [
      "Vsl std cd s  lghtwght\n",
      "bt pwrfl src cd dtr whch \n",
      "rns n yr dsktp nd s vlbl \n",
      "fr wndws , mc s , lnx. \n",
      "blh .. blh ... blh\n"
     ]
    }
   ],
   "source": [
    "#remove all vowels\n",
    "\n",
    "msg = long_msg # copy the string\n",
    "vowels = \"aeiouAEIOU\"\n",
    "for v in vowels:\n",
    "    msg = msg.replace(v, '')\n",
    "print(msg)    "
   ]
  },
  {
   "cell_type": "code",
   "execution_count": 86,
   "metadata": {},
   "outputs": [
    {
     "name": "stdout",
     "output_type": "stream",
     "text": [
      "['Visual', 'studio', 'code', 'is', 'a', 'lightweight', 'but', 'powerful', 'source', 'code', 'editor', 'which', 'runs', 'on', 'your', 'desktop', 'and', 'is', 'available', 'for', 'windows', ',', 'mac', 'os', ',', 'linux.', 'blah', '..', 'blah', '...', 'blah']\n"
     ]
    }
   ],
   "source": [
    "\n",
    "#n word slice\n",
    "\n",
    "word_count = int(input(\"how many words? \"))\n",
    "words = long_msg.split()[:word_count]\n",
    "print(words)"
   ]
  },
  {
   "cell_type": "code",
   "execution_count": 84,
   "metadata": {},
   "outputs": [
    {
     "name": "stdout",
     "output_type": "stream",
     "text": [
      "Visual 6\n",
      "studio 6\n",
      "code 4\n",
      "is 2\n",
      "a 1\n",
      "lightweight 11\n",
      "but 3\n",
      "powerful 8\n",
      "source 6\n",
      "code 4\n",
      "editor 6\n",
      "which 5\n",
      "runs 4\n",
      "on 2\n",
      "your 4\n",
      "desktop 7\n",
      "and 3\n",
      "is 2\n",
      "available 9\n",
      "for 3\n",
      "windows 7\n",
      ", 1\n",
      "mac 3\n",
      "os 2\n",
      ", 1\n",
      "linux. 6\n",
      "blah 4\n",
      ".. 2\n",
      "blah 4\n",
      "... 3\n",
      "blah 4\n",
      "biggest word is lightweight with 11 characters\n"
     ]
    }
   ],
   "source": [
    "m = 0\n",
    "w = 0\n",
    "for word in long_msg.split():\n",
    "    print(word, len(word))\n",
    "    if len(word) > m:\n",
    "        m = len(word)\n",
    "        w = word\n",
    "\n",
    "print(f'biggest word is {w} with {m} characters')"
   ]
  }
 ],
 "metadata": {
  "kernelspec": {
   "display_name": "Python 3.9.12 ('base')",
   "language": "python",
   "name": "python3"
  },
  "language_info": {
   "codemirror_mode": {
    "name": "ipython",
    "version": 3
   },
   "file_extension": ".py",
   "mimetype": "text/x-python",
   "name": "python",
   "nbconvert_exporter": "python",
   "pygments_lexer": "ipython3",
   "version": "3.9.12"
  },
  "orig_nbformat": 4,
  "vscode": {
   "interpreter": {
    "hash": "ad09bb94b98bbd5808ef9f9ec51e05a317322e67166a9b2689cc493a4d51385b"
   }
  }
 },
 "nbformat": 4,
 "nbformat_minor": 2
}
