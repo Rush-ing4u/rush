{
 "cells": [
  {
   "cell_type": "code",
   "execution_count": 59,
   "metadata": {},
   "outputs": [
    {
     "name": "stdout",
     "output_type": "stream",
     "text": [
      "Hello\n",
      "Hello\n",
      "Hello\n"
     ]
    }
   ],
   "source": [
    "# Defining string in python .\n",
    "# All of the following are equivalent .\n",
    "my_string = 'Hello'\n",
    "print(my_string)\n",
    "\n",
    "my_string = \"Hello\"\n",
    "print(my_string)\n",
    "\n",
    "my_string = '''Hello'''\n",
    "print(my_string)\n"
   ]
  },
  {
   "cell_type": "code",
   "execution_count": 60,
   "metadata": {},
   "outputs": [
    {
     "name": "stdout",
     "output_type": "stream",
     "text": [
      "Hello ,welcome to the world of python\n"
     ]
    }
   ],
   "source": [
    "# Triple quotes string can extend multiple lines .\n",
    "my_string = \"\"\"Hello ,welcome to the world of python\"\"\"\n",
    "print(my_string)"
   ]
  },
  {
   "cell_type": "code",
   "execution_count": 61,
   "metadata": {},
   "outputs": [
    {
     "name": "stdout",
     "output_type": "stream",
     "text": [
      "str[0]= d\n",
      "str[1]= i\n",
      "str[-1]= m\n",
      "str[-2]= u\n"
     ]
    }
   ],
   "source": [
    "# string\n",
    "\n",
    "str = 'digipodium'\n",
    "print('str[0]=',str[0])\n",
    "print('str[1]=',str[1])\n",
    "print('str[-1]=',str[-1])\n",
    "print('str[-2]=',str[-2])"
   ]
  },
  {
   "cell_type": "code",
   "execution_count": 62,
   "metadata": {},
   "outputs": [
    {
     "name": "stdout",
     "output_type": "stream",
     "text": [
      "digi\n",
      "podium\n",
      "podium\n"
     ]
    }
   ],
   "source": [
    "# Getting a slice\n",
    "\n",
    "s = 'digipodium'\n",
    "slice1 = s[0:4]\n",
    "print(slice1) \n",
    "slice2 = s[4:len(s)]\n",
    "slice3 = s[4:]\n",
    "print(slice2)\n",
    "print(slice3)"
   ]
  },
  {
   "cell_type": "code",
   "execution_count": 63,
   "metadata": {},
   "outputs": [
    {
     "name": "stdout",
     "output_type": "stream",
     "text": [
      "A\n",
      "ऽ\n",
      "き\n"
     ]
    }
   ],
   "source": [
    "# Building function for strings\n",
    "x = chr(65) #integer to string \n",
    "print(x)\n",
    "x = chr(2365) \n",
    "print(x)\n",
    "x = chr(12365)\n",
    "print(x)\n"
   ]
  },
  {
   "cell_type": "code",
   "execution_count": 64,
   "metadata": {},
   "outputs": [
    {
     "name": "stdout",
     "output_type": "stream",
     "text": [
      "thisisAmazing\n"
     ]
    }
   ],
   "source": [
    "#concatenation\n",
    "w1='this'\n",
    "w2= 'is'\n",
    "w3='Amazing'\n",
    "msg= w1+w2+w3\n",
    "print(msg)\n",
    "\n"
   ]
  },
  {
   "cell_type": "code",
   "execution_count": 65,
   "metadata": {},
   "outputs": [
    {
     "name": "stdout",
     "output_type": "stream",
     "text": [
      "this is Amazing\n"
     ]
    }
   ],
   "source": [
    "#adding space between strings\n",
    "msg= w1+' '+w2+' '+w3\n",
    "print(msg)\n"
   ]
  },
  {
   "cell_type": "code",
   "execution_count": 66,
   "metadata": {},
   "outputs": [
    {
     "name": "stdout",
     "output_type": "stream",
     "text": [
      "hihihi\n"
     ]
    }
   ],
   "source": [
    "#duplication\n",
    "word='hi'\n",
    "print(word*3)"
   ]
  },
  {
   "cell_type": "code",
   "execution_count": 67,
   "metadata": {},
   "outputs": [
    {
     "name": "stdout",
     "output_type": "stream",
     "text": [
      " ❤ \n",
      " ❤  ❤ \n",
      " ❤  ❤  ❤ \n",
      " ❤  ❤  ❤  ❤ \n",
      " ❤  ❤  ❤  ❤  ❤ \n"
     ]
    }
   ],
   "source": [
    "#pattern printing\n",
    "for i in range(1,6):\n",
    "    print(i*' ❤ ')\n"
   ]
  },
  {
   "cell_type": "code",
   "execution_count": 68,
   "metadata": {},
   "outputs": [
    {
     "name": "stdout",
     "output_type": "stream",
     "text": [
      " ❤  ❤  ❤  ❤  ❤  ❤ \n",
      " ❤  ❤  ❤  ❤  ❤ \n",
      " ❤  ❤  ❤  ❤ \n",
      " ❤  ❤  ❤ \n",
      " ❤  ❤ \n",
      " ❤ \n"
     ]
    }
   ],
   "source": [
    "for i in range(6,0,-1):\n",
    "    print(i*' ❤ ')"
   ]
  },
  {
   "cell_type": "code",
   "execution_count": 69,
   "metadata": {},
   "outputs": [],
   "source": [
    "name = \"Sherlock Holmes\" \n",
    "age = 221\n",
    "iteams =['miss hudson','john h. watson'] "
   ]
  },
  {
   "cell_type": "markdown",
   "metadata": {},
   "source": [
    "###formatting function = manipulation of data "
   ]
  },
  {
   "cell_type": "code",
   "execution_count": 70,
   "metadata": {},
   "outputs": [],
   "source": [
    "msg= 'this is a message from WILLIAM JAMES MORIARTY'"
   ]
  },
  {
   "cell_type": "code",
   "execution_count": 71,
   "metadata": {},
   "outputs": [
    {
     "name": "stdout",
     "output_type": "stream",
     "text": [
      "THIS IS A MESSAGE FROM WILLIAM JAMES MORIARTY\n",
      "this is a message from william james moriarty\n",
      "This Is A Message From William James Moriarty\n",
      "This is a message from william james moriarty\n",
      "this is a message from william james moriarty\n",
      "THIS IS A MESSAGE FROM william james moriarty\n",
      "this is a message from WILLIAM JAMES MORIARTY\n"
     ]
    }
   ],
   "source": [
    "print(msg.upper())\n",
    "print(msg.lower())\n",
    "print(msg.title())\n",
    "print(msg.capitalize())\n",
    "print(msg.casefold())# similar to lower\n",
    "print(msg.swapcase())\n",
    "print(msg)"
   ]
  },
  {
   "cell_type": "code",
   "execution_count": 72,
   "metadata": {},
   "outputs": [
    {
     "name": "stdout",
     "output_type": "stream",
     "text": [
      "          ❤  ❤  ❤  ❤  ❤  ❤  ❤   \n",
      "           ❤  ❤  ❤  ❤  ❤  ❤   \n",
      "            ❤  ❤  ❤  ❤  ❤   \n",
      "             ❤  ❤  ❤  ❤   \n",
      "              ❤  ❤  ❤   \n",
      "               ❤  ❤   \n",
      "                ❤   \n"
     ]
    }
   ],
   "source": [
    "rows=6\n",
    "k=2* rows -2\n",
    "for i in range(rows,-1,-1):\n",
    "  for j in range(k,0,-1):\n",
    "    print(end=\" \")\n",
    "  k=k+1\n",
    "  for j in range(0,i+1):\n",
    "   print(\"❤\", end=\"  \")\n",
    "  print(\" \")\n",
    "\n"
   ]
  },
  {
   "cell_type": "code",
   "execution_count": 73,
   "metadata": {},
   "outputs": [
    {
     "data": {
      "text/plain": [
       "45"
      ]
     },
     "execution_count": 73,
     "metadata": {},
     "output_type": "execute_result"
    }
   ],
   "source": [
    "len(msg)"
   ]
  },
  {
   "cell_type": "code",
   "execution_count": 74,
   "metadata": {},
   "outputs": [
    {
     "name": "stdout",
     "output_type": "stream",
     "text": [
      "this is a message from WILLIAM JAMES MORIARTY\n"
     ]
    }
   ],
   "source": [
    "print(msg)"
   ]
  },
  {
   "cell_type": "code",
   "execution_count": 75,
   "metadata": {},
   "outputs": [
    {
     "name": "stdout",
     "output_type": "stream",
     "text": [
      "this is a message from WILLIAM JAMES MORIARTY                                   \n"
     ]
    }
   ],
   "source": [
    "print(msg.ljust(80))"
   ]
  },
  {
   "cell_type": "code",
   "execution_count": 76,
   "metadata": {},
   "outputs": [
    {
     "name": "stdout",
     "output_type": "stream",
     "text": [
      "                                   this is a message from WILLIAM JAMES MORIARTY\n"
     ]
    }
   ],
   "source": [
    "print(msg.rjust(80))"
   ]
  },
  {
   "cell_type": "code",
   "execution_count": 77,
   "metadata": {},
   "outputs": [
    {
     "name": "stdout",
     "output_type": "stream",
     "text": [
      "                 this is a message from WILLIAM JAMES MORIARTY                  \n"
     ]
    }
   ],
   "source": [
    "print(msg.center(80))"
   ]
  },
  {
   "cell_type": "code",
   "execution_count": 78,
   "metadata": {},
   "outputs": [],
   "source": [
    "long_msg ='''\n",
    "Visual studio code is a lightweight\n",
    "but powerful source code editor which \n",
    "runs on your desktop and is available \n",
    "for windows , mac os , linux. \n",
    "blah .. blah ... blah\n",
    "'''"
   ]
  },
  {
   "cell_type": "code",
   "execution_count": 79,
   "metadata": {},
   "outputs": [
    {
     "name": "stdout",
     "output_type": "stream",
     "text": [
      "                                                                                                                                  \n",
      "                                               Visual studio code is a lightweight                                                \n",
      "                                              but powerful source code editor which                                               \n",
      "                                              runs on your desktop and is available                                               \n",
      "                                                  for windows , mac os , linux.                                                   \n",
      "                                                      blah .. blah ... blah                                                       \n",
      "                                                                                                                                  \n"
     ]
    }
   ],
   "source": [
    "for line in long_msg.split('\\n'):\n",
    "    print(line.center(130))"
   ]
  },
  {
   "cell_type": "code",
   "execution_count": 80,
   "metadata": {},
   "outputs": [
    {
     "data": {
      "text/plain": [
       "['this', 'is', 'a', 'message', 'from', 'WILLIAM', 'JAMES', 'MORIARTY']"
      ]
     },
     "execution_count": 80,
     "metadata": {},
     "output_type": "execute_result"
    }
   ],
   "source": [
    "msg.split()"
   ]
  },
  {
   "cell_type": "code",
   "execution_count": 81,
   "metadata": {},
   "outputs": [
    {
     "data": {
      "text/plain": [
       "['',\n",
       " 'Visual studio code is a lightweight',\n",
       " 'but powerful source code editor which ',\n",
       " 'runs on your desktop and is available ',\n",
       " 'for windows , mac os , linux. ',\n",
       " 'blah .. blah ... blah',\n",
       " '']"
      ]
     },
     "execution_count": 81,
     "metadata": {},
     "output_type": "execute_result"
    }
   ],
   "source": [
    "long_msg.split('\\n')"
   ]
  },
  {
   "cell_type": "code",
   "execution_count": 82,
   "metadata": {},
   "outputs": [
    {
     "data": {
      "text/plain": [
       "['this', 'is', 'a', 'message from WILLIAM JAMES MORIARTY']"
      ]
     },
     "execution_count": 82,
     "metadata": {},
     "output_type": "execute_result"
    }
   ],
   "source": [
    "msg.split(maxsplit=3)"
   ]
  },
  {
   "cell_type": "code",
   "execution_count": 83,
   "metadata": {},
   "outputs": [
    {
     "data": {
      "text/plain": [
       "['this is a message from', 'WILLIAM', 'JAMES', 'MORIARTY']"
      ]
     },
     "execution_count": 83,
     "metadata": {},
     "output_type": "execute_result"
    }
   ],
   "source": [
    "msg.rsplit(maxsplit=3) # reverse split"
   ]
  },
  {
   "cell_type": "code",
   "execution_count": 84,
   "metadata": {},
   "outputs": [
    {
     "data": {
      "text/plain": [
       "'\\nVisual studio code is a lightweight\\nbut powerful source code editor which \\nruns on your desktop and is available \\nfor windows , mac os , linux. \\nblah .. blah ... blah\\n'"
      ]
     },
     "execution_count": 84,
     "metadata": {},
     "output_type": "execute_result"
    }
   ],
   "source": [
    "long_msg"
   ]
  },
  {
   "cell_type": "code",
   "execution_count": 85,
   "metadata": {},
   "outputs": [
    {
     "name": "stdout",
     "output_type": "stream",
     "text": [
      "8  rushil \n",
      "6 rushil\n"
     ]
    }
   ],
   "source": [
    "name = input(\"what is your name?\")\n",
    "print(len(name),name)\n",
    "name= name.strip()\n",
    "print(len(name),name)"
   ]
  },
  {
   "cell_type": "code",
   "execution_count": 86,
   "metadata": {},
   "outputs": [
    {
     "name": "stdout",
     "output_type": "stream",
     "text": [
      "168\n",
      "166\n"
     ]
    }
   ],
   "source": [
    "print(len(long_msg))\n",
    "long_msg = long_msg.strip()\n",
    "print(len(long_msg))"
   ]
  },
  {
   "cell_type": "code",
   "execution_count": 87,
   "metadata": {},
   "outputs": [
    {
     "data": {
      "text/plain": [
       "'SHERLOCK'"
      ]
     },
     "execution_count": 87,
     "metadata": {},
     "output_type": "execute_result"
    }
   ],
   "source": [
    "data = \"0000000000000SHERLOCK0000\"\n",
    "data.strip('0')"
   ]
  },
  {
   "cell_type": "code",
   "execution_count": 88,
   "metadata": {},
   "outputs": [
    {
     "data": {
      "text/plain": [
       "' this .... is .... not ..... me '"
      ]
     },
     "execution_count": 88,
     "metadata": {},
     "output_type": "execute_result"
    }
   ],
   "source": [
    "data = \"..... this .... is .... not ..... me ....\"\n",
    "data.strip('.')"
   ]
  },
  {
   "cell_type": "code",
   "execution_count": 89,
   "metadata": {},
   "outputs": [
    {
     "name": "stdout",
     "output_type": "stream",
     "text": [
      " this .... is .... not ..... me \n",
      " this .... is .... not ..... me ....\n",
      "..... this .... is .... not ..... me \n"
     ]
    }
   ],
   "source": [
    "print(data.strip('.'))\n",
    "print(data.lstrip('.'))\n",
    "print(data.rstrip('.'))"
   ]
  },
  {
   "cell_type": "code",
   "execution_count": 90,
   "metadata": {},
   "outputs": [
    {
     "name": "stdout",
     "output_type": "stream",
     "text": [
      "Visual studio code is a lightweight\n",
      "but powerful source code editor which \n",
      "runs on your desktop and is available \n",
      "for windows , mac os , linux. \n",
      "blah .. blah ... blah\n",
      "update-------------->\n",
      "Vosual studoo code os a loghtweoght\n",
      "but powerful source code edotor whoch \n",
      "runs on your desktop and os avaolable \n",
      "for wondows , mac os , lonux. \n",
      "blah .. blah ... blah\n"
     ]
    }
   ],
   "source": [
    "print(long_msg)\n",
    "print('update-------------->')\n",
    "print(long_msg.replace('i','o'))"
   ]
  },
  {
   "cell_type": "code",
   "execution_count": 91,
   "metadata": {},
   "outputs": [
    {
     "data": {
      "text/plain": [
       "' this  is  not  me '"
      ]
     },
     "execution_count": 91,
     "metadata": {},
     "output_type": "execute_result"
    }
   ],
   "source": [
    "data.replace('.','')\n"
   ]
  },
  {
   "cell_type": "code",
   "execution_count": 92,
   "metadata": {},
   "outputs": [
    {
     "name": "stdout",
     "output_type": "stream",
     "text": [
      "11\n"
     ]
    }
   ],
   "source": [
    "print(long_msg.count('i'))"
   ]
  }
 ],
 "metadata": {
  "kernelspec": {
   "display_name": "Python 3.9.12 ('base')",
   "language": "python",
   "name": "python3"
  },
  "language_info": {
   "codemirror_mode": {
    "name": "ipython",
    "version": 3
   },
   "file_extension": ".py",
   "mimetype": "text/x-python",
   "name": "python",
   "nbconvert_exporter": "python",
   "pygments_lexer": "ipython3",
   "version": "3.9.12"
  },
  "orig_nbformat": 4,
  "vscode": {
   "interpreter": {
    "hash": "ad09bb94b98bbd5808ef9f9ec51e05a317322e67166a9b2689cc493a4d51385b"
   }
  }
 },
 "nbformat": 4,
 "nbformat_minor": 2
}
